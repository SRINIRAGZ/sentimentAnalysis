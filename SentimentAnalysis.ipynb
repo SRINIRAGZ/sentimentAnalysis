{
  "nbformat": 4,
  "nbformat_minor": 0,
  "metadata": {
    "colab": {
      "provenance": [],
      "machine_shape": "hm",
      "gpuType": "L4",
      "mount_file_id": "https://github.com/SRINIRAGZ/sentimentAnalysis/blob/main/SentimentAnalysis.ipynb",
      "authorship_tag": "ABX9TyPLOTj0D0lbLdMKEdmznQci",
      "include_colab_link": true
    },
    "kernelspec": {
      "name": "python3",
      "display_name": "Python 3"
    },
    "language_info": {
      "name": "python"
    },
    "accelerator": "GPU"
  },
  "cells": [
    {
      "cell_type": "markdown",
      "metadata": {
        "id": "view-in-github",
        "colab_type": "text"
      },
      "source": [
        "<a href=\"https://colab.research.google.com/github/SRINIRAGZ/sentimentAnalysis/blob/main/SentimentAnalysis.ipynb\" target=\"_parent\"><img src=\"https://colab.research.google.com/assets/colab-badge.svg\" alt=\"Open In Colab\"/></a>"
      ]
    },
    {
      "cell_type": "markdown",
      "source": [
        "### Clone the git repo"
      ],
      "metadata": {
        "id": "Cf9v_nBWQs1U"
      }
    },
    {
      "cell_type": "code",
      "source": [
        "from getpass import getpass\n",
        "\n",
        "# Securely ask for GitHub token\n",
        "token = getpass(\"Enter your GitHub token: \")\n",
        "!git clone https://{token}@github.com/SRINIRAGZ/sentimentAnalysis.git"
      ],
      "metadata": {
        "id": "ZN6u5RpILCka",
        "outputId": "49cb6ed8-fcf9-4ba7-a26c-fb763c8f1c75",
        "colab": {
          "base_uri": "https://localhost:8080/"
        }
      },
      "execution_count": 11,
      "outputs": [
        {
          "output_type": "stream",
          "name": "stdout",
          "text": [
            "Enter your GitHub token: ··········\n",
            "Cloning into 'sentimentAnalysis'...\n",
            "remote: Enumerating objects: 15, done.\u001b[K\n",
            "remote: Counting objects: 100% (15/15), done.\u001b[K\n",
            "remote: Compressing objects: 100% (12/12), done.\u001b[K\n",
            "remote: Total 15 (delta 2), reused 0 (delta 0), pack-reused 0 (from 0)\u001b[K\n",
            "Receiving objects: 100% (15/15), 19.13 KiB | 9.56 MiB/s, done.\n",
            "Resolving deltas: 100% (2/2), done.\n"
          ]
        }
      ]
    },
    {
      "cell_type": "markdown",
      "source": [
        "### Installation of libraries"
      ],
      "metadata": {
        "id": "zraEa_5MIRQG"
      }
    },
    {
      "cell_type": "code",
      "execution_count": null,
      "metadata": {
        "id": "kg3U2ZS3IlU1"
      },
      "outputs": [],
      "source": [
        "!pip install transformers torch"
      ]
    },
    {
      "cell_type": "code",
      "source": [
        "import numpy as np\n",
        "import pandas as pd"
      ],
      "metadata": {
        "id": "lFA94nB-Iu_u"
      },
      "execution_count": null,
      "outputs": []
    },
    {
      "cell_type": "code",
      "source": [
        "##PArams\n",
        "filename = ''\n",
        "DataFolder = './SentimentAnalysis/data/{filename}'\n",
        "ResultsFolder = './SentimentAnalysis/results/{filename}'"
      ],
      "metadata": {
        "id": "m3K9qhJyKTi8"
      },
      "execution_count": null,
      "outputs": []
    },
    {
      "cell_type": "markdown",
      "source": [
        "### Data Import"
      ],
      "metadata": {
        "id": "4vCCQZcxI4qM"
      }
    },
    {
      "cell_type": "code",
      "source": [],
      "metadata": {
        "id": "6fD-nERUI3PV"
      },
      "execution_count": null,
      "outputs": []
    },
    {
      "cell_type": "markdown",
      "source": [
        "## Data Cleaning"
      ],
      "metadata": {
        "id": "JO3tw2VHI7p2"
      }
    },
    {
      "cell_type": "markdown",
      "source": [
        "## Data PreProcessing"
      ],
      "metadata": {
        "id": "6Xqc6Nm-I_F_"
      }
    },
    {
      "cell_type": "markdown",
      "source": [
        "## Sentiment Analysis"
      ],
      "metadata": {
        "id": "6fBPEkdlJFiG"
      }
    },
    {
      "cell_type": "markdown",
      "source": [
        "## Summarization"
      ],
      "metadata": {
        "id": "rNvr5OVVJQ-o"
      }
    },
    {
      "cell_type": "markdown",
      "source": [
        "## Results export"
      ],
      "metadata": {
        "id": "jZELIZ0uJTYC"
      }
    },
    {
      "cell_type": "markdown",
      "source": [
        "### Final Plots"
      ],
      "metadata": {
        "id": "Il-d-YtNJXb6"
      }
    },
    {
      "cell_type": "code",
      "source": [
        "from transformers import pipeline\n",
        "\n",
        "# Load sentiment analysis pipeline\n",
        "classifier = pipeline(\"sentiment-analysis\", model=\"cardiffnlp/twitter-roberta-base-sentiment\")\n",
        "\n",
        "\n"
      ],
      "metadata": {
        "id": "gYoYDiG4JHVs"
      },
      "execution_count": null,
      "outputs": []
    },
    {
      "cell_type": "code",
      "source": [
        "# Example comments\n",
        "comments = [\n",
        "    \"I love this product!\",\n",
        "    \"This is the worst service I’ve ever experienced.\",\n",
        "    \"The delivery was okay, nothing special.\",\n",
        "    \"Great! It lasted only for a whole one day\"\n",
        "]\n",
        "\n",
        "# Run sentiment analysis\n",
        "results = classifier(comments)\n",
        "\n",
        "# Display results\n",
        "for comment, result in zip(comments, results):\n",
        "    print(f\"{comment} => {result['label']} (score: {result['score']:.2f})\")"
      ],
      "metadata": {
        "id": "nmxr8IIzKx99"
      },
      "execution_count": null,
      "outputs": []
    },
    {
      "cell_type": "code",
      "source": [
        "# summarizer = pipeline(\"summarization\", model=\"facebook/bart-large-cnn\")\n",
        "summarizer = pipeline(\"summarization\", model=\"google/flan-t5-large\")\n"
      ],
      "metadata": {
        "id": "H61GmjrLLbdW"
      },
      "execution_count": null,
      "outputs": []
    },
    {
      "cell_type": "code",
      "source": [
        "allcomments = \"Summarize all the fllowing user comments on product: \"+\" \".join(comments)\n",
        "summary = summarizer(allcomments, max_length=15, min_length=5, do_sample=False)\n",
        "print(summary)"
      ],
      "metadata": {
        "id": "Vy0P5e9wLxNS"
      },
      "execution_count": null,
      "outputs": []
    },
    {
      "cell_type": "code",
      "source": [
        "text = '''summarize the following news about NVIDIA: NVIDIA T4 was introduced 4 years ago as a universal GPU for use in mainstream servers. T4 GPUs achieved widespread adoption and are now the highest-volume NVIDIA data center GPU. T4 GPUs were deployed into use cases for AI inference, cloud gaming, video, and visual computing.At the NVIDIA GTC 2023 keynote, NVIDIA introduced several inference platforms for AI workloads, including the NVIDIA T4 successor: the NVIDIA L4 Tensor Core GPU. The L4 GPU is now the universal, energy-efficient accelerator designed to meet AI needs for video, visual computing, graphics, virtualization, generative AI, and numerous applications for edge computing.\n",
        "In this post, we walk through how mainstream servers with the L4 GPUs provide more AI video performance and enable more video streams compared to the previous generation (T4). You will find proven results for use cases ranging from video streaming to drug discovery and learn how you can experience the difference of running an AI workload on the L4 GPU today.'''"
      ],
      "metadata": {
        "id": "ICmlM8zoMrJi"
      },
      "execution_count": null,
      "outputs": []
    },
    {
      "cell_type": "code",
      "source": [
        "prompt = \"\"\"\n",
        "Summarize the following customer reviews into key points of satisfaction and dissatisfaction:\n",
        "\n",
        "Reviews:\n",
        "1. I love this product, it’s fantastic!\n",
        "2. The delivery was late and support was unhelpful.\n",
        "3. Packaging was okay, nothing special.\n",
        "4. Great quality, I’ll buy again.\n",
        "5. Service is terrible, I want a refund.\n",
        "\"\"\""
      ],
      "metadata": {
        "id": "ofRCwJmLOrFe"
      },
      "execution_count": null,
      "outputs": []
    },
    {
      "cell_type": "code",
      "source": [
        "summary = summarizer(prompt, max_new_tokens=15, min_length=5, do_sample=False)\n",
        "print(summary[0]['summary_text'])"
      ],
      "metadata": {
        "id": "hYD-odeyM1-i"
      },
      "execution_count": null,
      "outputs": []
    }
  ]
}