{
  "nbformat": 4,
  "nbformat_minor": 0,
  "metadata": {
    "colab": {
      "provenance": [],
      "machine_shape": "hm",
      "gpuType": "L4",
      "mount_file_id": "https://github.com/SRINIRAGZ/sentimentAnalysis/blob/main/SentimentAnalysis.ipynb",
      "authorship_tag": "ABX9TyNHowoJM4og0FyypbmCxj6v",
      "include_colab_link": true
    },
    "kernelspec": {
      "name": "python3",
      "display_name": "Python 3"
    },
    "language_info": {
      "name": "python"
    },
    "accelerator": "GPU"
  },
  "cells": [
    {
      "cell_type": "markdown",
      "metadata": {
        "id": "view-in-github",
        "colab_type": "text"
      },
      "source": [
        "<a href=\"https://colab.research.google.com/github/SRINIRAGZ/sentimentAnalysis/blob/main/SentimentAnalysis.ipynb\" target=\"_parent\"><img src=\"https://colab.research.google.com/assets/colab-badge.svg\" alt=\"Open In Colab\"/></a>"
      ]
    },
    {
      "cell_type": "markdown",
      "source": [
        "### Clone the git repo"
      ],
      "metadata": {
        "id": "Cf9v_nBWQs1U"
      }
    },
    {
      "cell_type": "code",
      "source": [
        "from getpass import getpass\n",
        "\n",
        "# Securely ask for GitHub token\n",
        "token = getpass(\"Enter your GitHub token: \")\n",
        "!git clone https://{token}@github.com/SRINIRAGZ/sentimentAnalysis.git"
      ],
      "metadata": {
        "colab": {
          "base_uri": "https://localhost:8080/"
        },
        "id": "ZN6u5RpILCka",
        "outputId": "6cf56b69-e9a8-4ec6-b332-5b191f334dec"
      },
      "execution_count": 1,
      "outputs": [
        {
          "output_type": "stream",
          "name": "stdout",
          "text": [
            "Enter your GitHub token: ··········\n",
            "Cloning into 'sentimentAnalysis'...\n",
            "remote: Enumerating objects: 22, done.\u001b[K\n",
            "remote: Counting objects: 100% (22/22), done.\u001b[K\n",
            "remote: Compressing objects: 100% (19/19), done.\u001b[K\n",
            "remote: Total 22 (delta 6), reused 0 (delta 0), pack-reused 0 (from 0)\u001b[K\n",
            "Receiving objects: 100% (22/22), 564.09 KiB | 1.49 MiB/s, done.\n",
            "Resolving deltas: 100% (6/6), done.\n"
          ]
        }
      ]
    },
    {
      "cell_type": "markdown",
      "source": [
        "### Installation of libraries"
      ],
      "metadata": {
        "id": "zraEa_5MIRQG"
      }
    },
    {
      "cell_type": "code",
      "execution_count": 2,
      "metadata": {
        "id": "kg3U2ZS3IlU1",
        "colab": {
          "base_uri": "https://localhost:8080/"
        },
        "outputId": "f446b6b0-96af-413f-c2a2-811a16d18ecc"
      },
      "outputs": [
        {
          "output_type": "stream",
          "name": "stdout",
          "text": [
            "Requirement already satisfied: transformers in /usr/local/lib/python3.11/dist-packages (4.54.0)\n",
            "Requirement already satisfied: torch in /usr/local/lib/python3.11/dist-packages (2.6.0+cu124)\n",
            "Requirement already satisfied: filelock in /usr/local/lib/python3.11/dist-packages (from transformers) (3.18.0)\n",
            "Requirement already satisfied: huggingface-hub<1.0,>=0.34.0 in /usr/local/lib/python3.11/dist-packages (from transformers) (0.34.1)\n",
            "Requirement already satisfied: numpy>=1.17 in /usr/local/lib/python3.11/dist-packages (from transformers) (2.0.2)\n",
            "Requirement already satisfied: packaging>=20.0 in /usr/local/lib/python3.11/dist-packages (from transformers) (25.0)\n",
            "Requirement already satisfied: pyyaml>=5.1 in /usr/local/lib/python3.11/dist-packages (from transformers) (6.0.2)\n",
            "Requirement already satisfied: regex!=2019.12.17 in /usr/local/lib/python3.11/dist-packages (from transformers) (2024.11.6)\n",
            "Requirement already satisfied: requests in /usr/local/lib/python3.11/dist-packages (from transformers) (2.32.3)\n",
            "Requirement already satisfied: tokenizers<0.22,>=0.21 in /usr/local/lib/python3.11/dist-packages (from transformers) (0.21.2)\n",
            "Requirement already satisfied: safetensors>=0.4.3 in /usr/local/lib/python3.11/dist-packages (from transformers) (0.5.3)\n",
            "Requirement already satisfied: tqdm>=4.27 in /usr/local/lib/python3.11/dist-packages (from transformers) (4.67.1)\n",
            "Requirement already satisfied: typing-extensions>=4.10.0 in /usr/local/lib/python3.11/dist-packages (from torch) (4.14.1)\n",
            "Requirement already satisfied: networkx in /usr/local/lib/python3.11/dist-packages (from torch) (3.5)\n",
            "Requirement already satisfied: jinja2 in /usr/local/lib/python3.11/dist-packages (from torch) (3.1.6)\n",
            "Requirement already satisfied: fsspec in /usr/local/lib/python3.11/dist-packages (from torch) (2025.3.0)\n",
            "Collecting nvidia-cuda-nvrtc-cu12==12.4.127 (from torch)\n",
            "  Downloading nvidia_cuda_nvrtc_cu12-12.4.127-py3-none-manylinux2014_x86_64.whl.metadata (1.5 kB)\n",
            "Collecting nvidia-cuda-runtime-cu12==12.4.127 (from torch)\n",
            "  Downloading nvidia_cuda_runtime_cu12-12.4.127-py3-none-manylinux2014_x86_64.whl.metadata (1.5 kB)\n",
            "Collecting nvidia-cuda-cupti-cu12==12.4.127 (from torch)\n",
            "  Downloading nvidia_cuda_cupti_cu12-12.4.127-py3-none-manylinux2014_x86_64.whl.metadata (1.6 kB)\n",
            "Collecting nvidia-cudnn-cu12==9.1.0.70 (from torch)\n",
            "  Downloading nvidia_cudnn_cu12-9.1.0.70-py3-none-manylinux2014_x86_64.whl.metadata (1.6 kB)\n",
            "Collecting nvidia-cublas-cu12==12.4.5.8 (from torch)\n",
            "  Downloading nvidia_cublas_cu12-12.4.5.8-py3-none-manylinux2014_x86_64.whl.metadata (1.5 kB)\n",
            "Collecting nvidia-cufft-cu12==11.2.1.3 (from torch)\n",
            "  Downloading nvidia_cufft_cu12-11.2.1.3-py3-none-manylinux2014_x86_64.whl.metadata (1.5 kB)\n",
            "Collecting nvidia-curand-cu12==10.3.5.147 (from torch)\n",
            "  Downloading nvidia_curand_cu12-10.3.5.147-py3-none-manylinux2014_x86_64.whl.metadata (1.5 kB)\n",
            "Collecting nvidia-cusolver-cu12==11.6.1.9 (from torch)\n",
            "  Downloading nvidia_cusolver_cu12-11.6.1.9-py3-none-manylinux2014_x86_64.whl.metadata (1.6 kB)\n",
            "Collecting nvidia-cusparse-cu12==12.3.1.170 (from torch)\n",
            "  Downloading nvidia_cusparse_cu12-12.3.1.170-py3-none-manylinux2014_x86_64.whl.metadata (1.6 kB)\n",
            "Requirement already satisfied: nvidia-cusparselt-cu12==0.6.2 in /usr/local/lib/python3.11/dist-packages (from torch) (0.6.2)\n",
            "Requirement already satisfied: nvidia-nccl-cu12==2.21.5 in /usr/local/lib/python3.11/dist-packages (from torch) (2.21.5)\n",
            "Requirement already satisfied: nvidia-nvtx-cu12==12.4.127 in /usr/local/lib/python3.11/dist-packages (from torch) (12.4.127)\n",
            "Collecting nvidia-nvjitlink-cu12==12.4.127 (from torch)\n",
            "  Downloading nvidia_nvjitlink_cu12-12.4.127-py3-none-manylinux2014_x86_64.whl.metadata (1.5 kB)\n",
            "Requirement already satisfied: triton==3.2.0 in /usr/local/lib/python3.11/dist-packages (from torch) (3.2.0)\n",
            "Requirement already satisfied: sympy==1.13.1 in /usr/local/lib/python3.11/dist-packages (from torch) (1.13.1)\n",
            "Requirement already satisfied: mpmath<1.4,>=1.1.0 in /usr/local/lib/python3.11/dist-packages (from sympy==1.13.1->torch) (1.3.0)\n",
            "Requirement already satisfied: hf-xet<2.0.0,>=1.1.3 in /usr/local/lib/python3.11/dist-packages (from huggingface-hub<1.0,>=0.34.0->transformers) (1.1.5)\n",
            "Requirement already satisfied: MarkupSafe>=2.0 in /usr/local/lib/python3.11/dist-packages (from jinja2->torch) (3.0.2)\n",
            "Requirement already satisfied: charset-normalizer<4,>=2 in /usr/local/lib/python3.11/dist-packages (from requests->transformers) (3.4.2)\n",
            "Requirement already satisfied: idna<4,>=2.5 in /usr/local/lib/python3.11/dist-packages (from requests->transformers) (3.10)\n",
            "Requirement already satisfied: urllib3<3,>=1.21.1 in /usr/local/lib/python3.11/dist-packages (from requests->transformers) (2.5.0)\n",
            "Requirement already satisfied: certifi>=2017.4.17 in /usr/local/lib/python3.11/dist-packages (from requests->transformers) (2025.7.14)\n",
            "Downloading nvidia_cublas_cu12-12.4.5.8-py3-none-manylinux2014_x86_64.whl (363.4 MB)\n",
            "\u001b[2K   \u001b[90m━━━━━━━━━━━━━━━━━━━━━━━━━━━━━━━━━━━━━━━━\u001b[0m \u001b[32m363.4/363.4 MB\u001b[0m \u001b[31m3.3 MB/s\u001b[0m eta \u001b[36m0:00:00\u001b[0m\n",
            "\u001b[?25hDownloading nvidia_cuda_cupti_cu12-12.4.127-py3-none-manylinux2014_x86_64.whl (13.8 MB)\n",
            "\u001b[2K   \u001b[90m━━━━━━━━━━━━━━━━━━━━━━━━━━━━━━━━━━━━━━━━\u001b[0m \u001b[32m13.8/13.8 MB\u001b[0m \u001b[31m107.3 MB/s\u001b[0m eta \u001b[36m0:00:00\u001b[0m\n",
            "\u001b[?25hDownloading nvidia_cuda_nvrtc_cu12-12.4.127-py3-none-manylinux2014_x86_64.whl (24.6 MB)\n",
            "\u001b[2K   \u001b[90m━━━━━━━━━━━━━━━━━━━━━━━━━━━━━━━━━━━━━━━━\u001b[0m \u001b[32m24.6/24.6 MB\u001b[0m \u001b[31m91.5 MB/s\u001b[0m eta \u001b[36m0:00:00\u001b[0m\n",
            "\u001b[?25hDownloading nvidia_cuda_runtime_cu12-12.4.127-py3-none-manylinux2014_x86_64.whl (883 kB)\n",
            "\u001b[2K   \u001b[90m━━━━━━━━━━━━━━━━━━━━━━━━━━━━━━━━━━━━━━━━\u001b[0m \u001b[32m883.7/883.7 kB\u001b[0m \u001b[31m66.9 MB/s\u001b[0m eta \u001b[36m0:00:00\u001b[0m\n",
            "\u001b[?25hDownloading nvidia_cudnn_cu12-9.1.0.70-py3-none-manylinux2014_x86_64.whl (664.8 MB)\n",
            "\u001b[2K   \u001b[90m━━━━━━━━━━━━━━━━━━━━━━━━━━━━━━━━━━━━━━━━\u001b[0m \u001b[32m664.8/664.8 MB\u001b[0m \u001b[31m2.3 MB/s\u001b[0m eta \u001b[36m0:00:00\u001b[0m\n",
            "\u001b[?25hDownloading nvidia_cufft_cu12-11.2.1.3-py3-none-manylinux2014_x86_64.whl (211.5 MB)\n",
            "\u001b[2K   \u001b[90m━━━━━━━━━━━━━━━━━━━━━━━━━━━━━━━━━━━━━━━━\u001b[0m \u001b[32m211.5/211.5 MB\u001b[0m \u001b[31m4.8 MB/s\u001b[0m eta \u001b[36m0:00:00\u001b[0m\n",
            "\u001b[?25hDownloading nvidia_curand_cu12-10.3.5.147-py3-none-manylinux2014_x86_64.whl (56.3 MB)\n",
            "\u001b[2K   \u001b[90m━━━━━━━━━━━━━━━━━━━━━━━━━━━━━━━━━━━━━━━━\u001b[0m \u001b[32m56.3/56.3 MB\u001b[0m \u001b[31m38.0 MB/s\u001b[0m eta \u001b[36m0:00:00\u001b[0m\n",
            "\u001b[?25hDownloading nvidia_cusolver_cu12-11.6.1.9-py3-none-manylinux2014_x86_64.whl (127.9 MB)\n",
            "\u001b[2K   \u001b[90m━━━━━━━━━━━━━━━━━━━━━━━━━━━━━━━━━━━━━━━━\u001b[0m \u001b[32m127.9/127.9 MB\u001b[0m \u001b[31m19.1 MB/s\u001b[0m eta \u001b[36m0:00:00\u001b[0m\n",
            "\u001b[?25hDownloading nvidia_cusparse_cu12-12.3.1.170-py3-none-manylinux2014_x86_64.whl (207.5 MB)\n",
            "\u001b[2K   \u001b[90m━━━━━━━━━━━━━━━━━━━━━━━━━━━━━━━━━━━━━━━━\u001b[0m \u001b[32m207.5/207.5 MB\u001b[0m \u001b[31m5.0 MB/s\u001b[0m eta \u001b[36m0:00:00\u001b[0m\n",
            "\u001b[?25hDownloading nvidia_nvjitlink_cu12-12.4.127-py3-none-manylinux2014_x86_64.whl (21.1 MB)\n",
            "\u001b[2K   \u001b[90m━━━━━━━━━━━━━━━━━━━━━━━━━━━━━━━━━━━━━━━━\u001b[0m \u001b[32m21.1/21.1 MB\u001b[0m \u001b[31m104.1 MB/s\u001b[0m eta \u001b[36m0:00:00\u001b[0m\n",
            "\u001b[?25hInstalling collected packages: nvidia-nvjitlink-cu12, nvidia-curand-cu12, nvidia-cufft-cu12, nvidia-cuda-runtime-cu12, nvidia-cuda-nvrtc-cu12, nvidia-cuda-cupti-cu12, nvidia-cublas-cu12, nvidia-cusparse-cu12, nvidia-cudnn-cu12, nvidia-cusolver-cu12\n",
            "  Attempting uninstall: nvidia-nvjitlink-cu12\n",
            "    Found existing installation: nvidia-nvjitlink-cu12 12.5.82\n",
            "    Uninstalling nvidia-nvjitlink-cu12-12.5.82:\n",
            "      Successfully uninstalled nvidia-nvjitlink-cu12-12.5.82\n",
            "  Attempting uninstall: nvidia-curand-cu12\n",
            "    Found existing installation: nvidia-curand-cu12 10.3.6.82\n",
            "    Uninstalling nvidia-curand-cu12-10.3.6.82:\n",
            "      Successfully uninstalled nvidia-curand-cu12-10.3.6.82\n",
            "  Attempting uninstall: nvidia-cufft-cu12\n",
            "    Found existing installation: nvidia-cufft-cu12 11.2.3.61\n",
            "    Uninstalling nvidia-cufft-cu12-11.2.3.61:\n",
            "      Successfully uninstalled nvidia-cufft-cu12-11.2.3.61\n",
            "  Attempting uninstall: nvidia-cuda-runtime-cu12\n",
            "    Found existing installation: nvidia-cuda-runtime-cu12 12.5.82\n",
            "    Uninstalling nvidia-cuda-runtime-cu12-12.5.82:\n",
            "      Successfully uninstalled nvidia-cuda-runtime-cu12-12.5.82\n",
            "  Attempting uninstall: nvidia-cuda-nvrtc-cu12\n",
            "    Found existing installation: nvidia-cuda-nvrtc-cu12 12.5.82\n",
            "    Uninstalling nvidia-cuda-nvrtc-cu12-12.5.82:\n",
            "      Successfully uninstalled nvidia-cuda-nvrtc-cu12-12.5.82\n",
            "  Attempting uninstall: nvidia-cuda-cupti-cu12\n",
            "    Found existing installation: nvidia-cuda-cupti-cu12 12.5.82\n",
            "    Uninstalling nvidia-cuda-cupti-cu12-12.5.82:\n",
            "      Successfully uninstalled nvidia-cuda-cupti-cu12-12.5.82\n",
            "  Attempting uninstall: nvidia-cublas-cu12\n",
            "    Found existing installation: nvidia-cublas-cu12 12.5.3.2\n",
            "    Uninstalling nvidia-cublas-cu12-12.5.3.2:\n",
            "      Successfully uninstalled nvidia-cublas-cu12-12.5.3.2\n",
            "  Attempting uninstall: nvidia-cusparse-cu12\n",
            "    Found existing installation: nvidia-cusparse-cu12 12.5.1.3\n",
            "    Uninstalling nvidia-cusparse-cu12-12.5.1.3:\n",
            "      Successfully uninstalled nvidia-cusparse-cu12-12.5.1.3\n",
            "  Attempting uninstall: nvidia-cudnn-cu12\n",
            "    Found existing installation: nvidia-cudnn-cu12 9.3.0.75\n",
            "    Uninstalling nvidia-cudnn-cu12-9.3.0.75:\n",
            "      Successfully uninstalled nvidia-cudnn-cu12-9.3.0.75\n",
            "  Attempting uninstall: nvidia-cusolver-cu12\n",
            "    Found existing installation: nvidia-cusolver-cu12 11.6.3.83\n",
            "    Uninstalling nvidia-cusolver-cu12-11.6.3.83:\n",
            "      Successfully uninstalled nvidia-cusolver-cu12-11.6.3.83\n",
            "Successfully installed nvidia-cublas-cu12-12.4.5.8 nvidia-cuda-cupti-cu12-12.4.127 nvidia-cuda-nvrtc-cu12-12.4.127 nvidia-cuda-runtime-cu12-12.4.127 nvidia-cudnn-cu12-9.1.0.70 nvidia-cufft-cu12-11.2.1.3 nvidia-curand-cu12-10.3.5.147 nvidia-cusolver-cu12-11.6.1.9 nvidia-cusparse-cu12-12.3.1.170 nvidia-nvjitlink-cu12-12.4.127\n"
          ]
        }
      ],
      "source": [
        "!pip install transformers torch"
      ]
    },
    {
      "cell_type": "code",
      "source": [
        "import numpy as np\n",
        "import os\n",
        "import pandas as pd\n",
        "\n",
        "import matplotlib.pyplot as plt\n",
        "import seaborn as sns\n",
        "\n",
        "current_directory = os.getcwd()\n",
        "print(f\"Current working directory: {current_directory}\")"
      ],
      "metadata": {
        "colab": {
          "base_uri": "https://localhost:8080/"
        },
        "id": "lFA94nB-Iu_u",
        "outputId": "d616a109-c947-4c4d-d900-3dedad616c72"
      },
      "execution_count": 48,
      "outputs": [
        {
          "output_type": "stream",
          "name": "stdout",
          "text": [
            "Current working directory: /content\n"
          ]
        }
      ]
    },
    {
      "cell_type": "markdown",
      "source": [
        "### Configs"
      ],
      "metadata": {
        "id": "fMBGBh1AXPLK"
      }
    },
    {
      "cell_type": "code",
      "source": [
        "##PArams\n",
        "filename = 'engagements.csv'\n",
        "DataFolder = './sentimentAnalysis/data/{filename}'\n",
        "ResultsFolder = './sentimentAnalysis/results/{filename}'"
      ],
      "metadata": {
        "id": "m3K9qhJyKTi8"
      },
      "execution_count": 9,
      "outputs": []
    },
    {
      "cell_type": "markdown",
      "source": [
        "### Data Import"
      ],
      "metadata": {
        "id": "4vCCQZcxI4qM"
      }
    },
    {
      "cell_type": "code",
      "source": [
        "df = pd.read_csv(DataFolder.format(filename=filename))"
      ],
      "metadata": {
        "id": "6fD-nERUI3PV"
      },
      "execution_count": 11,
      "outputs": []
    },
    {
      "cell_type": "code",
      "source": [
        "df.head()"
      ],
      "metadata": {
        "id": "jlNOJa2_eh7S",
        "outputId": "eca1b5b1-4db3-454a-b0e6-bb8d8800a00d",
        "colab": {
          "base_uri": "https://localhost:8080/",
          "height": 206
        }
      },
      "execution_count": 27,
      "outputs": [
        {
          "output_type": "execute_result",
          "data": {
            "text/plain": [
              "                          timestamp           media_id  \\\n",
              "0  2025-03-01 00:13:57.153000+00:00   1090986906404998   \n",
              "1  2025-03-01 00:23:06.879000+00:00  17950254656929862   \n",
              "2  2025-03-01 00:04:05.094000+00:00   1090109319826090   \n",
              "3  2025-03-01 00:41:59.467000+00:00   1098364052333950   \n",
              "4  2025-03-01 02:21:29.715000+00:00   1083943630442659   \n",
              "\n",
              "                                       media_caption  \\\n",
              "0  Soft skin, soft life 🩷🌸🫧 get your hands on thi...   \n",
              "1  Why use one scrub when you can use them all at...   \n",
              "2  Morning routine with Tree Hut 🍊🫧 Now available...   \n",
              "3  Why use one scrub when you can use them all at...   \n",
              "4  Vanilla Serum-Infused Hand Wash: A sweet escap...   \n",
              "\n",
              "                                        comment_text  \n",
              "0                                 I bet this is good  \n",
              "1                         i know this smells so good  \n",
              "2                                            Love it  \n",
              "3  Please carry these in Canada! I miss them so m...  \n",
              "4                                     I love it ..✌️  "
            ],
            "text/html": [
              "\n",
              "  <div id=\"df-37a20f17-dcde-4936-a9a9-b28b02ae8fd0\" class=\"colab-df-container\">\n",
              "    <div>\n",
              "<style scoped>\n",
              "    .dataframe tbody tr th:only-of-type {\n",
              "        vertical-align: middle;\n",
              "    }\n",
              "\n",
              "    .dataframe tbody tr th {\n",
              "        vertical-align: top;\n",
              "    }\n",
              "\n",
              "    .dataframe thead th {\n",
              "        text-align: right;\n",
              "    }\n",
              "</style>\n",
              "<table border=\"1\" class=\"dataframe\">\n",
              "  <thead>\n",
              "    <tr style=\"text-align: right;\">\n",
              "      <th></th>\n",
              "      <th>timestamp</th>\n",
              "      <th>media_id</th>\n",
              "      <th>media_caption</th>\n",
              "      <th>comment_text</th>\n",
              "    </tr>\n",
              "  </thead>\n",
              "  <tbody>\n",
              "    <tr>\n",
              "      <th>0</th>\n",
              "      <td>2025-03-01 00:13:57.153000+00:00</td>\n",
              "      <td>1090986906404998</td>\n",
              "      <td>Soft skin, soft life 🩷🌸🫧 get your hands on thi...</td>\n",
              "      <td>I bet this is good</td>\n",
              "    </tr>\n",
              "    <tr>\n",
              "      <th>1</th>\n",
              "      <td>2025-03-01 00:23:06.879000+00:00</td>\n",
              "      <td>17950254656929862</td>\n",
              "      <td>Why use one scrub when you can use them all at...</td>\n",
              "      <td>i know this smells so good</td>\n",
              "    </tr>\n",
              "    <tr>\n",
              "      <th>2</th>\n",
              "      <td>2025-03-01 00:04:05.094000+00:00</td>\n",
              "      <td>1090109319826090</td>\n",
              "      <td>Morning routine with Tree Hut 🍊🫧 Now available...</td>\n",
              "      <td>Love it</td>\n",
              "    </tr>\n",
              "    <tr>\n",
              "      <th>3</th>\n",
              "      <td>2025-03-01 00:41:59.467000+00:00</td>\n",
              "      <td>1098364052333950</td>\n",
              "      <td>Why use one scrub when you can use them all at...</td>\n",
              "      <td>Please carry these in Canada! I miss them so m...</td>\n",
              "    </tr>\n",
              "    <tr>\n",
              "      <th>4</th>\n",
              "      <td>2025-03-01 02:21:29.715000+00:00</td>\n",
              "      <td>1083943630442659</td>\n",
              "      <td>Vanilla Serum-Infused Hand Wash: A sweet escap...</td>\n",
              "      <td>I love it ..✌️</td>\n",
              "    </tr>\n",
              "  </tbody>\n",
              "</table>\n",
              "</div>\n",
              "    <div class=\"colab-df-buttons\">\n",
              "\n",
              "  <div class=\"colab-df-container\">\n",
              "    <button class=\"colab-df-convert\" onclick=\"convertToInteractive('df-37a20f17-dcde-4936-a9a9-b28b02ae8fd0')\"\n",
              "            title=\"Convert this dataframe to an interactive table.\"\n",
              "            style=\"display:none;\">\n",
              "\n",
              "  <svg xmlns=\"http://www.w3.org/2000/svg\" height=\"24px\" viewBox=\"0 -960 960 960\">\n",
              "    <path d=\"M120-120v-720h720v720H120Zm60-500h600v-160H180v160Zm220 220h160v-160H400v160Zm0 220h160v-160H400v160ZM180-400h160v-160H180v160Zm440 0h160v-160H620v160ZM180-180h160v-160H180v160Zm440 0h160v-160H620v160Z\"/>\n",
              "  </svg>\n",
              "    </button>\n",
              "\n",
              "  <style>\n",
              "    .colab-df-container {\n",
              "      display:flex;\n",
              "      gap: 12px;\n",
              "    }\n",
              "\n",
              "    .colab-df-convert {\n",
              "      background-color: #E8F0FE;\n",
              "      border: none;\n",
              "      border-radius: 50%;\n",
              "      cursor: pointer;\n",
              "      display: none;\n",
              "      fill: #1967D2;\n",
              "      height: 32px;\n",
              "      padding: 0 0 0 0;\n",
              "      width: 32px;\n",
              "    }\n",
              "\n",
              "    .colab-df-convert:hover {\n",
              "      background-color: #E2EBFA;\n",
              "      box-shadow: 0px 1px 2px rgba(60, 64, 67, 0.3), 0px 1px 3px 1px rgba(60, 64, 67, 0.15);\n",
              "      fill: #174EA6;\n",
              "    }\n",
              "\n",
              "    .colab-df-buttons div {\n",
              "      margin-bottom: 4px;\n",
              "    }\n",
              "\n",
              "    [theme=dark] .colab-df-convert {\n",
              "      background-color: #3B4455;\n",
              "      fill: #D2E3FC;\n",
              "    }\n",
              "\n",
              "    [theme=dark] .colab-df-convert:hover {\n",
              "      background-color: #434B5C;\n",
              "      box-shadow: 0px 1px 3px 1px rgba(0, 0, 0, 0.15);\n",
              "      filter: drop-shadow(0px 1px 2px rgba(0, 0, 0, 0.3));\n",
              "      fill: #FFFFFF;\n",
              "    }\n",
              "  </style>\n",
              "\n",
              "    <script>\n",
              "      const buttonEl =\n",
              "        document.querySelector('#df-37a20f17-dcde-4936-a9a9-b28b02ae8fd0 button.colab-df-convert');\n",
              "      buttonEl.style.display =\n",
              "        google.colab.kernel.accessAllowed ? 'block' : 'none';\n",
              "\n",
              "      async function convertToInteractive(key) {\n",
              "        const element = document.querySelector('#df-37a20f17-dcde-4936-a9a9-b28b02ae8fd0');\n",
              "        const dataTable =\n",
              "          await google.colab.kernel.invokeFunction('convertToInteractive',\n",
              "                                                    [key], {});\n",
              "        if (!dataTable) return;\n",
              "\n",
              "        const docLinkHtml = 'Like what you see? Visit the ' +\n",
              "          '<a target=\"_blank\" href=https://colab.research.google.com/notebooks/data_table.ipynb>data table notebook</a>'\n",
              "          + ' to learn more about interactive tables.';\n",
              "        element.innerHTML = '';\n",
              "        dataTable['output_type'] = 'display_data';\n",
              "        await google.colab.output.renderOutput(dataTable, element);\n",
              "        const docLink = document.createElement('div');\n",
              "        docLink.innerHTML = docLinkHtml;\n",
              "        element.appendChild(docLink);\n",
              "      }\n",
              "    </script>\n",
              "  </div>\n",
              "\n",
              "\n",
              "    <div id=\"df-e3098da3-08ca-4a9c-a5e2-0945428243c5\">\n",
              "      <button class=\"colab-df-quickchart\" onclick=\"quickchart('df-e3098da3-08ca-4a9c-a5e2-0945428243c5')\"\n",
              "                title=\"Suggest charts\"\n",
              "                style=\"display:none;\">\n",
              "\n",
              "<svg xmlns=\"http://www.w3.org/2000/svg\" height=\"24px\"viewBox=\"0 0 24 24\"\n",
              "     width=\"24px\">\n",
              "    <g>\n",
              "        <path d=\"M19 3H5c-1.1 0-2 .9-2 2v14c0 1.1.9 2 2 2h14c1.1 0 2-.9 2-2V5c0-1.1-.9-2-2-2zM9 17H7v-7h2v7zm4 0h-2V7h2v10zm4 0h-2v-4h2v4z\"/>\n",
              "    </g>\n",
              "</svg>\n",
              "      </button>\n",
              "\n",
              "<style>\n",
              "  .colab-df-quickchart {\n",
              "      --bg-color: #E8F0FE;\n",
              "      --fill-color: #1967D2;\n",
              "      --hover-bg-color: #E2EBFA;\n",
              "      --hover-fill-color: #174EA6;\n",
              "      --disabled-fill-color: #AAA;\n",
              "      --disabled-bg-color: #DDD;\n",
              "  }\n",
              "\n",
              "  [theme=dark] .colab-df-quickchart {\n",
              "      --bg-color: #3B4455;\n",
              "      --fill-color: #D2E3FC;\n",
              "      --hover-bg-color: #434B5C;\n",
              "      --hover-fill-color: #FFFFFF;\n",
              "      --disabled-bg-color: #3B4455;\n",
              "      --disabled-fill-color: #666;\n",
              "  }\n",
              "\n",
              "  .colab-df-quickchart {\n",
              "    background-color: var(--bg-color);\n",
              "    border: none;\n",
              "    border-radius: 50%;\n",
              "    cursor: pointer;\n",
              "    display: none;\n",
              "    fill: var(--fill-color);\n",
              "    height: 32px;\n",
              "    padding: 0;\n",
              "    width: 32px;\n",
              "  }\n",
              "\n",
              "  .colab-df-quickchart:hover {\n",
              "    background-color: var(--hover-bg-color);\n",
              "    box-shadow: 0 1px 2px rgba(60, 64, 67, 0.3), 0 1px 3px 1px rgba(60, 64, 67, 0.15);\n",
              "    fill: var(--button-hover-fill-color);\n",
              "  }\n",
              "\n",
              "  .colab-df-quickchart-complete:disabled,\n",
              "  .colab-df-quickchart-complete:disabled:hover {\n",
              "    background-color: var(--disabled-bg-color);\n",
              "    fill: var(--disabled-fill-color);\n",
              "    box-shadow: none;\n",
              "  }\n",
              "\n",
              "  .colab-df-spinner {\n",
              "    border: 2px solid var(--fill-color);\n",
              "    border-color: transparent;\n",
              "    border-bottom-color: var(--fill-color);\n",
              "    animation:\n",
              "      spin 1s steps(1) infinite;\n",
              "  }\n",
              "\n",
              "  @keyframes spin {\n",
              "    0% {\n",
              "      border-color: transparent;\n",
              "      border-bottom-color: var(--fill-color);\n",
              "      border-left-color: var(--fill-color);\n",
              "    }\n",
              "    20% {\n",
              "      border-color: transparent;\n",
              "      border-left-color: var(--fill-color);\n",
              "      border-top-color: var(--fill-color);\n",
              "    }\n",
              "    30% {\n",
              "      border-color: transparent;\n",
              "      border-left-color: var(--fill-color);\n",
              "      border-top-color: var(--fill-color);\n",
              "      border-right-color: var(--fill-color);\n",
              "    }\n",
              "    40% {\n",
              "      border-color: transparent;\n",
              "      border-right-color: var(--fill-color);\n",
              "      border-top-color: var(--fill-color);\n",
              "    }\n",
              "    60% {\n",
              "      border-color: transparent;\n",
              "      border-right-color: var(--fill-color);\n",
              "    }\n",
              "    80% {\n",
              "      border-color: transparent;\n",
              "      border-right-color: var(--fill-color);\n",
              "      border-bottom-color: var(--fill-color);\n",
              "    }\n",
              "    90% {\n",
              "      border-color: transparent;\n",
              "      border-bottom-color: var(--fill-color);\n",
              "    }\n",
              "  }\n",
              "</style>\n",
              "\n",
              "      <script>\n",
              "        async function quickchart(key) {\n",
              "          const quickchartButtonEl =\n",
              "            document.querySelector('#' + key + ' button');\n",
              "          quickchartButtonEl.disabled = true;  // To prevent multiple clicks.\n",
              "          quickchartButtonEl.classList.add('colab-df-spinner');\n",
              "          try {\n",
              "            const charts = await google.colab.kernel.invokeFunction(\n",
              "                'suggestCharts', [key], {});\n",
              "          } catch (error) {\n",
              "            console.error('Error during call to suggestCharts:', error);\n",
              "          }\n",
              "          quickchartButtonEl.classList.remove('colab-df-spinner');\n",
              "          quickchartButtonEl.classList.add('colab-df-quickchart-complete');\n",
              "        }\n",
              "        (() => {\n",
              "          let quickchartButtonEl =\n",
              "            document.querySelector('#df-e3098da3-08ca-4a9c-a5e2-0945428243c5 button');\n",
              "          quickchartButtonEl.style.display =\n",
              "            google.colab.kernel.accessAllowed ? 'block' : 'none';\n",
              "        })();\n",
              "      </script>\n",
              "    </div>\n",
              "\n",
              "    </div>\n",
              "  </div>\n"
            ],
            "application/vnd.google.colaboratory.intrinsic+json": {
              "type": "dataframe",
              "variable_name": "df",
              "summary": "{\n  \"name\": \"df\",\n  \"rows\": 17841,\n  \"fields\": [\n    {\n      \"column\": \"timestamp\",\n      \"properties\": {\n        \"dtype\": \"string\",\n        \"num_unique_values\": 17840,\n        \"samples\": [\n          \"2025-03-21 16:26:01.959000+00:00\",\n          \"2025-03-11 12:50:49.213000+00:00\",\n          \"2025-03-04 17:06:31.135000+00:00\"\n        ],\n        \"semantic_type\": \"\",\n        \"description\": \"\"\n      }\n    },\n    {\n      \"column\": \"media_id\",\n      \"properties\": {\n        \"dtype\": \"number\",\n        \"std\": 6297451613373289,\n        \"min\": 895505052619852,\n        \"max\": 18499994980028530,\n        \"num_unique_values\": 355,\n        \"samples\": [\n          1103278341842521,\n          18056284969869213,\n          1124077123095976\n        ],\n        \"semantic_type\": \"\",\n        \"description\": \"\"\n      }\n    },\n    {\n      \"column\": \"media_caption\",\n      \"properties\": {\n        \"dtype\": \"category\",\n        \"num_unique_values\": 211,\n        \"samples\": [\n          \"*slams laptop shut* \\u270c\\ufe0f\\ud83d\\udebf\\ud83c\\udf34 click the link to get my fave sugar scrub\",\n          \"Pear & Chia Seed Sugar Scrub, infused with nutrient rich prickly pear and chia seeds... perfect for spring \\ud83c\\udf37 and summer \\ud83c\\udf1e! It has the right color, the right refreshing scent, and the right amount of sugar for soft, smooth skin! \\ud83d\\udc4c\\n.\\n.\\n.\\n#treehut #pamper #sugarscrub #bodyscrub #sheabutter #treatyoself #smellssogood #smoothskin\",\n          \"Who\\u2019s PUMPED for our latest launch? \\ud83c\\udf38\\ud83d\\udca6\\n\\nFrom Serum-Infused Hand Washes to Overnight Lip Masks\\u2014you name it, we\\u2019ve got it (and so much more)\\u203c\\ufe0f Get ready to level up your self-care routine!\\nAvailable In-Store and Online Today\\ud83d\\udecd\\ufe0f\\n#treehut #treehutcollection #newlaunch\"\n        ],\n        \"semantic_type\": \"\",\n        \"description\": \"\"\n      }\n    },\n    {\n      \"column\": \"comment_text\",\n      \"properties\": {\n        \"dtype\": \"string\",\n        \"num_unique_values\": 12057,\n        \"samples\": [\n          \"Spain please \\ud83d\\ude4c\",\n          \"'@ags269 , @01aussie01 , @14avers14\",\n          \"This one smells so good.\\u2764\\ufe0f\"\n        ],\n        \"semantic_type\": \"\",\n        \"description\": \"\"\n      }\n    }\n  ]\n}"
            }
          },
          "metadata": {},
          "execution_count": 27
        }
      ]
    },
    {
      "cell_type": "markdown",
      "source": [
        "## Data Cleaning"
      ],
      "metadata": {
        "id": "JO3tw2VHI7p2"
      }
    },
    {
      "cell_type": "code",
      "source": [
        "df['media_caption'] = df['media_caption'].astype(str)\n",
        "df['comment_text'] = df['comment_text'].astype(str)"
      ],
      "metadata": {
        "id": "VU3UrDmWh4lM"
      },
      "execution_count": 34,
      "outputs": []
    },
    {
      "cell_type": "code",
      "source": [
        "maxlen = df[['media_caption','comment_text']].apply(lambda x: x.str.len().max())\n",
        "print(maxlen)\n"
      ],
      "metadata": {
        "id": "De2aaOxAdhXY",
        "outputId": "ef2f8574-b4c5-4902-fa99-30bf83a07a39",
        "colab": {
          "base_uri": "https://localhost:8080/"
        }
      },
      "execution_count": 29,
      "outputs": [
        {
          "output_type": "stream",
          "name": "stdout",
          "text": [
            "media_caption    993.0\n",
            "comment_text     745.0\n",
            "dtype: float64\n"
          ]
        }
      ]
    },
    {
      "cell_type": "code",
      "source": [
        "#Clean Mentions in comment\n",
        "df['comment_text'] = df['comment_text'].str.replace(r'@\\w+', '', regex=True)"
      ],
      "metadata": {
        "id": "yc2IAcKskFc_"
      },
      "execution_count": 40,
      "outputs": []
    },
    {
      "cell_type": "code",
      "source": [
        "df.columns"
      ],
      "metadata": {
        "id": "58dydQKKu6qr",
        "outputId": "f20059c4-89fd-4d05-be2c-e25cd58aaf8b",
        "colab": {
          "base_uri": "https://localhost:8080/"
        }
      },
      "execution_count": 63,
      "outputs": [
        {
          "output_type": "execute_result",
          "data": {
            "text/plain": [
              "Index(['timestamp', 'media_id', 'media_caption', 'comment_text', 'sentiment',\n",
              "       'sentiment_score', 'cluster'],\n",
              "      dtype='object')"
            ]
          },
          "metadata": {},
          "execution_count": 63
        }
      ]
    },
    {
      "cell_type": "code",
      "source": [
        "#cleaning duplicates\n",
        "df.drop_duplicates(inplace=True)\n",
        "df.sort_values('timestamp', inplace=True)\n",
        "df['aggcol'] = df[['media_id', 'media_caption', 'comment_text']].apply(tuple, axis=1)\n",
        "df.drop_duplicates(subset='aggcol', keep='first', inplace=True)\n",
        "df.drop(columns=['aggcol'], inplace=True)\n",
        "df.shape"
      ],
      "metadata": {
        "id": "FlnhDisutxhz",
        "outputId": "546834be-e74b-4128-f2b0-47c6d1ed8241",
        "colab": {
          "base_uri": "https://localhost:8080/"
        }
      },
      "execution_count": 67,
      "outputs": [
        {
          "output_type": "execute_result",
          "data": {
            "text/plain": [
              "(9188, 7)"
            ]
          },
          "metadata": {},
          "execution_count": 67
        }
      ]
    },
    {
      "cell_type": "markdown",
      "source": [
        "## Data PreProcessing"
      ],
      "metadata": {
        "id": "6Xqc6Nm-I_F_"
      }
    },
    {
      "cell_type": "markdown",
      "source": [
        "## Sentiment Analysis"
      ],
      "metadata": {
        "id": "6fBPEkdlJFiG"
      }
    },
    {
      "cell_type": "markdown",
      "source": [
        "Using RoBERTa model to analyse sentiment because its a robust pretrained BERT model optimized for sentiment analysis. BERT also is better at understanding context"
      ],
      "metadata": {
        "id": "ZVSQEDpoaI9x"
      }
    },
    {
      "cell_type": "code",
      "source": [
        "#model params\n",
        "MODEL = \"cardiffnlp/twitter-roberta-base-sentiment\"\n",
        "label_mapping = {'LABEL_0': 'Negative', 'LABEL_1': 'Neutral', 'LABEL_2': 'Positive'}"
      ],
      "metadata": {
        "id": "494TPPx1krj7"
      },
      "execution_count": 41,
      "outputs": []
    },
    {
      "cell_type": "code",
      "source": [
        "from transformers import pipeline, AutoTokenizer, AutoModelForSequenceClassification\n",
        "\n",
        "# Load sentiment analysis pipeline\n",
        "\n",
        "sentiment_classifier = pipeline(\"sentiment-analysis\", model=MODEL)\n"
      ],
      "metadata": {
        "id": "gYoYDiG4JHVs",
        "colab": {
          "base_uri": "https://localhost:8080/"
        },
        "outputId": "94a31081-95ac-4c21-c6cf-d567ac578a67"
      },
      "execution_count": 36,
      "outputs": [
        {
          "output_type": "stream",
          "name": "stderr",
          "text": [
            "Device set to use cuda:0\n"
          ]
        }
      ]
    },
    {
      "cell_type": "code",
      "source": [
        "# Run sentiment analysis\n",
        "\n",
        "results = sentiment_classifier(list(df['comment_text']))"
      ],
      "metadata": {
        "id": "nmxr8IIzKx99"
      },
      "execution_count": null,
      "outputs": []
    },
    {
      "cell_type": "code",
      "source": [
        "# Display results\n",
        "i=0\n",
        "for comment, result in zip(df['comment_text'], results):\n",
        "    print(f\"{comment} => {label_mapping[result['label']]} (score: {result['score']:.2f})\")\n",
        "    print(result)\n",
        "    if i>5:\n",
        "      break\n",
        "    i+=1"
      ],
      "metadata": {
        "id": "M1d-4kZLlaa1",
        "outputId": "f2b38d28-58ef-43fd-a815-8dbea9aaac0a",
        "colab": {
          "base_uri": "https://localhost:8080/"
        }
      },
      "execution_count": 45,
      "outputs": [
        {
          "output_type": "stream",
          "name": "stdout",
          "text": [
            "I bet this is good => Positive (score: 0.97)\n",
            "{'label': 'LABEL_2', 'score': 0.9709283113479614}\n",
            "i know this smells so good => Positive (score: 0.98)\n",
            "{'label': 'LABEL_2', 'score': 0.9758529663085938}\n",
            "Love it => Positive (score: 0.92)\n",
            "{'label': 'LABEL_2', 'score': 0.9205260276794434}\n",
            "Please carry these in Canada! I miss them so much! => Positive (score: 0.56)\n",
            "{'label': 'LABEL_2', 'score': 0.5638464689254761}\n",
            "I love it ..✌️ => Positive (score: 0.98)\n",
            "{'label': 'LABEL_2', 'score': 0.9764512777328491}\n",
            "Anndy Marin => Neutral (score: 0.70)\n",
            "{'label': 'LABEL_1', 'score': 0.7040501236915588}\n",
            "Shaheena Juliet Castellano Flavors?🧐\n",
            "I know you not …nevermind, I’ll just keep scrolling 👩🏽‍🦯‍➡️ => Neutral (score: 0.66)\n",
            "{'label': 'LABEL_1', 'score': 0.6600942015647888}\n"
          ]
        }
      ]
    },
    {
      "cell_type": "code",
      "source": [
        "#Rework on the dataframe with sentiment results\n",
        "df['sentiment'] = [label_mapping[result['label']] for result in results]\n",
        "df['sentiment_score'] = [result['score'] for result in results]\n",
        "df.head()"
      ],
      "metadata": {
        "id": "Rg-_K33YmAfY",
        "outputId": "b32a1e2e-e100-46bc-d85c-75e26890d0a2",
        "colab": {
          "base_uri": "https://localhost:8080/",
          "height": 206
        }
      },
      "execution_count": 46,
      "outputs": [
        {
          "output_type": "execute_result",
          "data": {
            "text/plain": [
              "                          timestamp           media_id  \\\n",
              "0  2025-03-01 00:13:57.153000+00:00   1090986906404998   \n",
              "1  2025-03-01 00:23:06.879000+00:00  17950254656929862   \n",
              "2  2025-03-01 00:04:05.094000+00:00   1090109319826090   \n",
              "3  2025-03-01 00:41:59.467000+00:00   1098364052333950   \n",
              "4  2025-03-01 02:21:29.715000+00:00   1083943630442659   \n",
              "\n",
              "                                       media_caption  \\\n",
              "0  Soft skin, soft life 🩷🌸🫧 get your hands on thi...   \n",
              "1  Why use one scrub when you can use them all at...   \n",
              "2  Morning routine with Tree Hut 🍊🫧 Now available...   \n",
              "3  Why use one scrub when you can use them all at...   \n",
              "4  Vanilla Serum-Infused Hand Wash: A sweet escap...   \n",
              "\n",
              "                                        comment_text sentiment  \\\n",
              "0                                 I bet this is good  Positive   \n",
              "1                         i know this smells so good  Positive   \n",
              "2                                            Love it  Positive   \n",
              "3  Please carry these in Canada! I miss them so m...  Positive   \n",
              "4                                     I love it ..✌️  Positive   \n",
              "\n",
              "   sentiment_score  \n",
              "0         0.970928  \n",
              "1         0.975853  \n",
              "2         0.920526  \n",
              "3         0.563846  \n",
              "4         0.976451  "
            ],
            "text/html": [
              "\n",
              "  <div id=\"df-11fdf874-effc-4cc9-b341-ee539a669005\" class=\"colab-df-container\">\n",
              "    <div>\n",
              "<style scoped>\n",
              "    .dataframe tbody tr th:only-of-type {\n",
              "        vertical-align: middle;\n",
              "    }\n",
              "\n",
              "    .dataframe tbody tr th {\n",
              "        vertical-align: top;\n",
              "    }\n",
              "\n",
              "    .dataframe thead th {\n",
              "        text-align: right;\n",
              "    }\n",
              "</style>\n",
              "<table border=\"1\" class=\"dataframe\">\n",
              "  <thead>\n",
              "    <tr style=\"text-align: right;\">\n",
              "      <th></th>\n",
              "      <th>timestamp</th>\n",
              "      <th>media_id</th>\n",
              "      <th>media_caption</th>\n",
              "      <th>comment_text</th>\n",
              "      <th>sentiment</th>\n",
              "      <th>sentiment_score</th>\n",
              "    </tr>\n",
              "  </thead>\n",
              "  <tbody>\n",
              "    <tr>\n",
              "      <th>0</th>\n",
              "      <td>2025-03-01 00:13:57.153000+00:00</td>\n",
              "      <td>1090986906404998</td>\n",
              "      <td>Soft skin, soft life 🩷🌸🫧 get your hands on thi...</td>\n",
              "      <td>I bet this is good</td>\n",
              "      <td>Positive</td>\n",
              "      <td>0.970928</td>\n",
              "    </tr>\n",
              "    <tr>\n",
              "      <th>1</th>\n",
              "      <td>2025-03-01 00:23:06.879000+00:00</td>\n",
              "      <td>17950254656929862</td>\n",
              "      <td>Why use one scrub when you can use them all at...</td>\n",
              "      <td>i know this smells so good</td>\n",
              "      <td>Positive</td>\n",
              "      <td>0.975853</td>\n",
              "    </tr>\n",
              "    <tr>\n",
              "      <th>2</th>\n",
              "      <td>2025-03-01 00:04:05.094000+00:00</td>\n",
              "      <td>1090109319826090</td>\n",
              "      <td>Morning routine with Tree Hut 🍊🫧 Now available...</td>\n",
              "      <td>Love it</td>\n",
              "      <td>Positive</td>\n",
              "      <td>0.920526</td>\n",
              "    </tr>\n",
              "    <tr>\n",
              "      <th>3</th>\n",
              "      <td>2025-03-01 00:41:59.467000+00:00</td>\n",
              "      <td>1098364052333950</td>\n",
              "      <td>Why use one scrub when you can use them all at...</td>\n",
              "      <td>Please carry these in Canada! I miss them so m...</td>\n",
              "      <td>Positive</td>\n",
              "      <td>0.563846</td>\n",
              "    </tr>\n",
              "    <tr>\n",
              "      <th>4</th>\n",
              "      <td>2025-03-01 02:21:29.715000+00:00</td>\n",
              "      <td>1083943630442659</td>\n",
              "      <td>Vanilla Serum-Infused Hand Wash: A sweet escap...</td>\n",
              "      <td>I love it ..✌️</td>\n",
              "      <td>Positive</td>\n",
              "      <td>0.976451</td>\n",
              "    </tr>\n",
              "  </tbody>\n",
              "</table>\n",
              "</div>\n",
              "    <div class=\"colab-df-buttons\">\n",
              "\n",
              "  <div class=\"colab-df-container\">\n",
              "    <button class=\"colab-df-convert\" onclick=\"convertToInteractive('df-11fdf874-effc-4cc9-b341-ee539a669005')\"\n",
              "            title=\"Convert this dataframe to an interactive table.\"\n",
              "            style=\"display:none;\">\n",
              "\n",
              "  <svg xmlns=\"http://www.w3.org/2000/svg\" height=\"24px\" viewBox=\"0 -960 960 960\">\n",
              "    <path d=\"M120-120v-720h720v720H120Zm60-500h600v-160H180v160Zm220 220h160v-160H400v160Zm0 220h160v-160H400v160ZM180-400h160v-160H180v160Zm440 0h160v-160H620v160ZM180-180h160v-160H180v160Zm440 0h160v-160H620v160Z\"/>\n",
              "  </svg>\n",
              "    </button>\n",
              "\n",
              "  <style>\n",
              "    .colab-df-container {\n",
              "      display:flex;\n",
              "      gap: 12px;\n",
              "    }\n",
              "\n",
              "    .colab-df-convert {\n",
              "      background-color: #E8F0FE;\n",
              "      border: none;\n",
              "      border-radius: 50%;\n",
              "      cursor: pointer;\n",
              "      display: none;\n",
              "      fill: #1967D2;\n",
              "      height: 32px;\n",
              "      padding: 0 0 0 0;\n",
              "      width: 32px;\n",
              "    }\n",
              "\n",
              "    .colab-df-convert:hover {\n",
              "      background-color: #E2EBFA;\n",
              "      box-shadow: 0px 1px 2px rgba(60, 64, 67, 0.3), 0px 1px 3px 1px rgba(60, 64, 67, 0.15);\n",
              "      fill: #174EA6;\n",
              "    }\n",
              "\n",
              "    .colab-df-buttons div {\n",
              "      margin-bottom: 4px;\n",
              "    }\n",
              "\n",
              "    [theme=dark] .colab-df-convert {\n",
              "      background-color: #3B4455;\n",
              "      fill: #D2E3FC;\n",
              "    }\n",
              "\n",
              "    [theme=dark] .colab-df-convert:hover {\n",
              "      background-color: #434B5C;\n",
              "      box-shadow: 0px 1px 3px 1px rgba(0, 0, 0, 0.15);\n",
              "      filter: drop-shadow(0px 1px 2px rgba(0, 0, 0, 0.3));\n",
              "      fill: #FFFFFF;\n",
              "    }\n",
              "  </style>\n",
              "\n",
              "    <script>\n",
              "      const buttonEl =\n",
              "        document.querySelector('#df-11fdf874-effc-4cc9-b341-ee539a669005 button.colab-df-convert');\n",
              "      buttonEl.style.display =\n",
              "        google.colab.kernel.accessAllowed ? 'block' : 'none';\n",
              "\n",
              "      async function convertToInteractive(key) {\n",
              "        const element = document.querySelector('#df-11fdf874-effc-4cc9-b341-ee539a669005');\n",
              "        const dataTable =\n",
              "          await google.colab.kernel.invokeFunction('convertToInteractive',\n",
              "                                                    [key], {});\n",
              "        if (!dataTable) return;\n",
              "\n",
              "        const docLinkHtml = 'Like what you see? Visit the ' +\n",
              "          '<a target=\"_blank\" href=https://colab.research.google.com/notebooks/data_table.ipynb>data table notebook</a>'\n",
              "          + ' to learn more about interactive tables.';\n",
              "        element.innerHTML = '';\n",
              "        dataTable['output_type'] = 'display_data';\n",
              "        await google.colab.output.renderOutput(dataTable, element);\n",
              "        const docLink = document.createElement('div');\n",
              "        docLink.innerHTML = docLinkHtml;\n",
              "        element.appendChild(docLink);\n",
              "      }\n",
              "    </script>\n",
              "  </div>\n",
              "\n",
              "\n",
              "    <div id=\"df-1f9be639-d63a-48f1-9824-d775f1dad58c\">\n",
              "      <button class=\"colab-df-quickchart\" onclick=\"quickchart('df-1f9be639-d63a-48f1-9824-d775f1dad58c')\"\n",
              "                title=\"Suggest charts\"\n",
              "                style=\"display:none;\">\n",
              "\n",
              "<svg xmlns=\"http://www.w3.org/2000/svg\" height=\"24px\"viewBox=\"0 0 24 24\"\n",
              "     width=\"24px\">\n",
              "    <g>\n",
              "        <path d=\"M19 3H5c-1.1 0-2 .9-2 2v14c0 1.1.9 2 2 2h14c1.1 0 2-.9 2-2V5c0-1.1-.9-2-2-2zM9 17H7v-7h2v7zm4 0h-2V7h2v10zm4 0h-2v-4h2v4z\"/>\n",
              "    </g>\n",
              "</svg>\n",
              "      </button>\n",
              "\n",
              "<style>\n",
              "  .colab-df-quickchart {\n",
              "      --bg-color: #E8F0FE;\n",
              "      --fill-color: #1967D2;\n",
              "      --hover-bg-color: #E2EBFA;\n",
              "      --hover-fill-color: #174EA6;\n",
              "      --disabled-fill-color: #AAA;\n",
              "      --disabled-bg-color: #DDD;\n",
              "  }\n",
              "\n",
              "  [theme=dark] .colab-df-quickchart {\n",
              "      --bg-color: #3B4455;\n",
              "      --fill-color: #D2E3FC;\n",
              "      --hover-bg-color: #434B5C;\n",
              "      --hover-fill-color: #FFFFFF;\n",
              "      --disabled-bg-color: #3B4455;\n",
              "      --disabled-fill-color: #666;\n",
              "  }\n",
              "\n",
              "  .colab-df-quickchart {\n",
              "    background-color: var(--bg-color);\n",
              "    border: none;\n",
              "    border-radius: 50%;\n",
              "    cursor: pointer;\n",
              "    display: none;\n",
              "    fill: var(--fill-color);\n",
              "    height: 32px;\n",
              "    padding: 0;\n",
              "    width: 32px;\n",
              "  }\n",
              "\n",
              "  .colab-df-quickchart:hover {\n",
              "    background-color: var(--hover-bg-color);\n",
              "    box-shadow: 0 1px 2px rgba(60, 64, 67, 0.3), 0 1px 3px 1px rgba(60, 64, 67, 0.15);\n",
              "    fill: var(--button-hover-fill-color);\n",
              "  }\n",
              "\n",
              "  .colab-df-quickchart-complete:disabled,\n",
              "  .colab-df-quickchart-complete:disabled:hover {\n",
              "    background-color: var(--disabled-bg-color);\n",
              "    fill: var(--disabled-fill-color);\n",
              "    box-shadow: none;\n",
              "  }\n",
              "\n",
              "  .colab-df-spinner {\n",
              "    border: 2px solid var(--fill-color);\n",
              "    border-color: transparent;\n",
              "    border-bottom-color: var(--fill-color);\n",
              "    animation:\n",
              "      spin 1s steps(1) infinite;\n",
              "  }\n",
              "\n",
              "  @keyframes spin {\n",
              "    0% {\n",
              "      border-color: transparent;\n",
              "      border-bottom-color: var(--fill-color);\n",
              "      border-left-color: var(--fill-color);\n",
              "    }\n",
              "    20% {\n",
              "      border-color: transparent;\n",
              "      border-left-color: var(--fill-color);\n",
              "      border-top-color: var(--fill-color);\n",
              "    }\n",
              "    30% {\n",
              "      border-color: transparent;\n",
              "      border-left-color: var(--fill-color);\n",
              "      border-top-color: var(--fill-color);\n",
              "      border-right-color: var(--fill-color);\n",
              "    }\n",
              "    40% {\n",
              "      border-color: transparent;\n",
              "      border-right-color: var(--fill-color);\n",
              "      border-top-color: var(--fill-color);\n",
              "    }\n",
              "    60% {\n",
              "      border-color: transparent;\n",
              "      border-right-color: var(--fill-color);\n",
              "    }\n",
              "    80% {\n",
              "      border-color: transparent;\n",
              "      border-right-color: var(--fill-color);\n",
              "      border-bottom-color: var(--fill-color);\n",
              "    }\n",
              "    90% {\n",
              "      border-color: transparent;\n",
              "      border-bottom-color: var(--fill-color);\n",
              "    }\n",
              "  }\n",
              "</style>\n",
              "\n",
              "      <script>\n",
              "        async function quickchart(key) {\n",
              "          const quickchartButtonEl =\n",
              "            document.querySelector('#' + key + ' button');\n",
              "          quickchartButtonEl.disabled = true;  // To prevent multiple clicks.\n",
              "          quickchartButtonEl.classList.add('colab-df-spinner');\n",
              "          try {\n",
              "            const charts = await google.colab.kernel.invokeFunction(\n",
              "                'suggestCharts', [key], {});\n",
              "          } catch (error) {\n",
              "            console.error('Error during call to suggestCharts:', error);\n",
              "          }\n",
              "          quickchartButtonEl.classList.remove('colab-df-spinner');\n",
              "          quickchartButtonEl.classList.add('colab-df-quickchart-complete');\n",
              "        }\n",
              "        (() => {\n",
              "          let quickchartButtonEl =\n",
              "            document.querySelector('#df-1f9be639-d63a-48f1-9824-d775f1dad58c button');\n",
              "          quickchartButtonEl.style.display =\n",
              "            google.colab.kernel.accessAllowed ? 'block' : 'none';\n",
              "        })();\n",
              "      </script>\n",
              "    </div>\n",
              "\n",
              "    </div>\n",
              "  </div>\n"
            ],
            "application/vnd.google.colaboratory.intrinsic+json": {
              "type": "dataframe",
              "variable_name": "df",
              "summary": "{\n  \"name\": \"df\",\n  \"rows\": 17841,\n  \"fields\": [\n    {\n      \"column\": \"timestamp\",\n      \"properties\": {\n        \"dtype\": \"string\",\n        \"num_unique_values\": 17840,\n        \"samples\": [\n          \"2025-03-21 16:26:01.959000+00:00\",\n          \"2025-03-11 12:50:49.213000+00:00\",\n          \"2025-03-04 17:06:31.135000+00:00\"\n        ],\n        \"semantic_type\": \"\",\n        \"description\": \"\"\n      }\n    },\n    {\n      \"column\": \"media_id\",\n      \"properties\": {\n        \"dtype\": \"number\",\n        \"std\": 6297451613373289,\n        \"min\": 895505052619852,\n        \"max\": 18499994980028530,\n        \"num_unique_values\": 355,\n        \"samples\": [\n          1103278341842521,\n          18056284969869213,\n          1124077123095976\n        ],\n        \"semantic_type\": \"\",\n        \"description\": \"\"\n      }\n    },\n    {\n      \"column\": \"media_caption\",\n      \"properties\": {\n        \"dtype\": \"category\",\n        \"num_unique_values\": 212,\n        \"samples\": [\n          \"*slams laptop shut* \\u270c\\ufe0f\\ud83d\\udebf\\ud83c\\udf34 click the link to get my fave sugar scrub\",\n          \"Time to unwind, refresh, and take care of yourself. \\u2728\\ud83e\\udee7\\nWhat\\u2019s your favorite part of your self-care routine?! Let us know in the comments \\ud83d\\udc47\\ud83d\\udc96 \\n\\nShop the vanilla collection today @walmart \\ud83d\\uded2\\n#TreeHutGlow #SelfCareRoutine #everythingshower\",\n          \"Not just walking\\u2026 full-speed sprinting to grab the Pre-Shave Foaming Polishes at Ulta Beauty  \\ud83c\\udfc3\\u200d\\u2640\\ufe0f\\ud83d\\udca8\\u2728\"\n        ],\n        \"semantic_type\": \"\",\n        \"description\": \"\"\n      }\n    },\n    {\n      \"column\": \"comment_text\",\n      \"properties\": {\n        \"dtype\": \"category\",\n        \"num_unique_values\": 8569,\n        \"samples\": [\n          \"' \\ud83d\\ude0d\\ud83c\\udf3a\",\n          \"Still in love, will definitely be getting the other scents. \\n\\n \\ud83e\\udd70\\ud83d\\ude29\\n\\n#simpleluxury #luxurywithinreach\\n #ugccreator #ugccommunity\",\n          \"'.pirolozzi\"\n        ],\n        \"semantic_type\": \"\",\n        \"description\": \"\"\n      }\n    },\n    {\n      \"column\": \"sentiment\",\n      \"properties\": {\n        \"dtype\": \"category\",\n        \"num_unique_values\": 3,\n        \"samples\": [\n          \"Positive\",\n          \"Neutral\",\n          \"Negative\"\n        ],\n        \"semantic_type\": \"\",\n        \"description\": \"\"\n      }\n    },\n    {\n      \"column\": \"sentiment_score\",\n      \"properties\": {\n        \"dtype\": \"number\",\n        \"std\": 0.14329982019189463,\n        \"min\": 0.34752365946769714,\n        \"max\": 0.9939034581184387,\n        \"num_unique_values\": 8563,\n        \"samples\": [\n          0.7713851928710938,\n          0.8252214789390564,\n          0.45317625999450684\n        ],\n        \"semantic_type\": \"\",\n        \"description\": \"\"\n      }\n    }\n  ]\n}"
            }
          },
          "metadata": {},
          "execution_count": 46
        }
      ]
    },
    {
      "cell_type": "code",
      "source": [
        "df['sentiment'].value_counts()"
      ],
      "metadata": {
        "id": "sMtfQfz-n4Kr",
        "outputId": "36b316c0-48ac-4175-8aeb-c76aa6420cfa",
        "colab": {
          "base_uri": "https://localhost:8080/",
          "height": 210
        }
      },
      "execution_count": 47,
      "outputs": [
        {
          "output_type": "execute_result",
          "data": {
            "text/plain": [
              "sentiment\n",
              "Neutral     11654\n",
              "Positive     5627\n",
              "Negative      560\n",
              "Name: count, dtype: int64"
            ],
            "text/html": [
              "<div>\n",
              "<style scoped>\n",
              "    .dataframe tbody tr th:only-of-type {\n",
              "        vertical-align: middle;\n",
              "    }\n",
              "\n",
              "    .dataframe tbody tr th {\n",
              "        vertical-align: top;\n",
              "    }\n",
              "\n",
              "    .dataframe thead th {\n",
              "        text-align: right;\n",
              "    }\n",
              "</style>\n",
              "<table border=\"1\" class=\"dataframe\">\n",
              "  <thead>\n",
              "    <tr style=\"text-align: right;\">\n",
              "      <th></th>\n",
              "      <th>count</th>\n",
              "    </tr>\n",
              "    <tr>\n",
              "      <th>sentiment</th>\n",
              "      <th></th>\n",
              "    </tr>\n",
              "  </thead>\n",
              "  <tbody>\n",
              "    <tr>\n",
              "      <th>Neutral</th>\n",
              "      <td>11654</td>\n",
              "    </tr>\n",
              "    <tr>\n",
              "      <th>Positive</th>\n",
              "      <td>5627</td>\n",
              "    </tr>\n",
              "    <tr>\n",
              "      <th>Negative</th>\n",
              "      <td>560</td>\n",
              "    </tr>\n",
              "  </tbody>\n",
              "</table>\n",
              "</div><br><label><b>dtype:</b> int64</label>"
            ]
          },
          "metadata": {},
          "execution_count": 47
        }
      ]
    },
    {
      "cell_type": "markdown",
      "source": [
        "### Looking for Semantic Similarities between media text"
      ],
      "metadata": {
        "id": "L9a-ViRnoaAB"
      }
    },
    {
      "cell_type": "markdown",
      "source": [
        "Semantic similarities can be achieved using mini language models which help in identifying clusters in language models and also help in clustering. Here our aim is to cluster using the embeddings we can further chalk analyze based on individula clusters."
      ],
      "metadata": {
        "id": "IFAw17k-ogMe"
      }
    },
    {
      "cell_type": "code",
      "source": [
        "#params\n",
        "MODEL='all-mpnet-base-v2' #'all-MiniLM-L12-v2'"
      ],
      "metadata": {
        "id": "Dxr2EEV2uSce"
      },
      "execution_count": 62,
      "outputs": []
    },
    {
      "cell_type": "code",
      "source": [
        "from sentence_transformers import SentenceTransformer\n",
        "from sklearn.cluster import KMeans\n",
        "\n",
        "# Generate embeddings\n",
        "embedder = SentenceTransformer(MODEL)\n",
        "embeddings = embedder.encode(list(df['media_caption']))\n",
        "\n"
      ],
      "metadata": {
        "id": "FLW_Kox1joLm"
      },
      "execution_count": null,
      "outputs": []
    },
    {
      "cell_type": "code",
      "source": [
        "clusterlist = range(3,50)\n",
        "sse=[] #error/ loss\n",
        "# Cluster into 3 themes (adjust as needed)\n",
        "for k in clusterlist:\n",
        "    clustering_model = KMeans(n_clusters=k, random_state=42)\n",
        "    clustering_model.fit(embeddings)\n",
        "    sse.append(clustering_model.inertia_)\n",
        "\n",
        "# Plot Elbow Curve\n",
        "plt.plot(clusterlist, sse, marker='o')\n",
        "plt.xlabel(\"Number of clusters (k)\")\n",
        "plt.ylabel(\"Within-cluster SSE (Inertia)\")\n",
        "plt.title(\"Elbow Method for Optimal k\")\n",
        "plt.show()\n",
        "print(sse)"
      ],
      "metadata": {
        "id": "q5RkqlQnqTDJ",
        "outputId": "937c9263-1e2b-41d6-cd34-990993b34266",
        "colab": {
          "base_uri": "https://localhost:8080/",
          "height": 509
        }
      },
      "execution_count": 51,
      "outputs": [
        {
          "output_type": "display_data",
          "data": {
            "text/plain": [
              "<Figure size 640x480 with 1 Axes>"
            ],
            "image/png": "[encoded data removed]"
          },
          "metadata": {}
        },
        {
          "output_type": "stream",
          "name": "stdout",
          "text": [
            "[7928.3046875, 7639.01611328125, 7453.7255859375, 6645.1572265625, 6502.7666015625, 6368.54931640625, 6261.265625, 6170.8818359375, 6116.28564453125, 6076.88330078125, 5719.42724609375, 5665.45263671875, 5639.0283203125, 5593.099609375, 5582.06787109375, 5544.73828125, 5502.71484375, 5463.6474609375, 5283.7734375, 5243.4990234375, 5209.07373046875, 5177.68017578125, 5149.4443359375, 5127.52880859375, 5126.68359375, 5076.77978515625, 5056.0966796875, 5049.6953125, 5034.990234375, 5009.185546875, 4987.1025390625, 4976.060546875, 4938.908203125, 4916.1875, 4901.796875, 4892.02734375, 4869.3740234375, 4852.7236328125, 4838.921875, 4814.98193359375, 4798.830078125, 4776.40234375, 4740.38916015625, 4725.888671875, 4711.39892578125, 4693.3251953125, 4684.61181640625]\n"
          ]
        }
      ]
    },
    {
      "cell_type": "code",
      "source": [
        "#optimal clustering\n",
        "num_clusters = 23\n",
        "clustering_model = KMeans(n_clusters=num_clusters, random_state=42)\n",
        "clustering_model.fit(embeddings)\n",
        "cluster_assignment = clustering_model.labels_\n",
        "\n",
        "# Group comments by cluster\n",
        "# clusters = {}\n",
        "# for comment, cluster_id in zip(comments, cluster_assignment):\n",
        "#     clusters.setdefault(cluster_id, []).append(comment)\n",
        "\n",
        "# for cluster_id, cluster_comments in clusters.items():\n",
        "#     print(f\"\\nCluster {cluster_id}:\")\n",
        "#     for c in cluster_comments:\n",
        "#         print(f\" - {c}\")\n"
      ],
      "metadata": {
        "id": "2FjABt8TpvDE"
      },
      "execution_count": null,
      "outputs": []
    },
    {
      "cell_type": "code",
      "source": [
        "df['cluster'] = cluster_assignment\n",
        "df.head()"
      ],
      "metadata": {
        "id": "qfizbNyarbCp",
        "outputId": "39f38461-d1c9-44db-c152-4acedbc93de5",
        "colab": {
          "base_uri": "https://localhost:8080/",
          "height": 206
        }
      },
      "execution_count": 57,
      "outputs": [
        {
          "output_type": "execute_result",
          "data": {
            "text/plain": [
              "                          timestamp           media_id  \\\n",
              "0  2025-03-01 00:13:57.153000+00:00   1090986906404998   \n",
              "1  2025-03-01 00:23:06.879000+00:00  17950254656929862   \n",
              "2  2025-03-01 00:04:05.094000+00:00   1090109319826090   \n",
              "3  2025-03-01 00:41:59.467000+00:00   1098364052333950   \n",
              "4  2025-03-01 02:21:29.715000+00:00   1083943630442659   \n",
              "\n",
              "                                       media_caption  \\\n",
              "0  Soft skin, soft life 🩷🌸🫧 get your hands on thi...   \n",
              "1  Why use one scrub when you can use them all at...   \n",
              "2  Morning routine with Tree Hut 🍊🫧 Now available...   \n",
              "3  Why use one scrub when you can use them all at...   \n",
              "4  Vanilla Serum-Infused Hand Wash: A sweet escap...   \n",
              "\n",
              "                                        comment_text sentiment  \\\n",
              "0                                 I bet this is good  Positive   \n",
              "1                         i know this smells so good  Positive   \n",
              "2                                            Love it  Positive   \n",
              "3  Please carry these in Canada! I miss them so m...  Positive   \n",
              "4                                     I love it ..✌️  Positive   \n",
              "\n",
              "   sentiment_score  cluster  \n",
              "0         0.970928       12  \n",
              "1         0.975853        4  \n",
              "2         0.920526       26  \n",
              "3         0.563846       37  \n",
              "4         0.976451       34  "
            ],
            "text/html": [
              "\n",
              "  <div id=\"df-485233a9-05b3-4fde-989e-4f15e87d284b\" class=\"colab-df-container\">\n",
              "    <div>\n",
              "<style scoped>\n",
              "    .dataframe tbody tr th:only-of-type {\n",
              "        vertical-align: middle;\n",
              "    }\n",
              "\n",
              "    .dataframe tbody tr th {\n",
              "        vertical-align: top;\n",
              "    }\n",
              "\n",
              "    .dataframe thead th {\n",
              "        text-align: right;\n",
              "    }\n",
              "</style>\n",
              "<table border=\"1\" class=\"dataframe\">\n",
              "  <thead>\n",
              "    <tr style=\"text-align: right;\">\n",
              "      <th></th>\n",
              "      <th>timestamp</th>\n",
              "      <th>media_id</th>\n",
              "      <th>media_caption</th>\n",
              "      <th>comment_text</th>\n",
              "      <th>sentiment</th>\n",
              "      <th>sentiment_score</th>\n",
              "      <th>cluster</th>\n",
              "    </tr>\n",
              "  </thead>\n",
              "  <tbody>\n",
              "    <tr>\n",
              "      <th>0</th>\n",
              "      <td>2025-03-01 00:13:57.153000+00:00</td>\n",
              "      <td>1090986906404998</td>\n",
              "      <td>Soft skin, soft life 🩷🌸🫧 get your hands on thi...</td>\n",
              "      <td>I bet this is good</td>\n",
              "      <td>Positive</td>\n",
              "      <td>0.970928</td>\n",
              "      <td>12</td>\n",
              "    </tr>\n",
              "    <tr>\n",
              "      <th>1</th>\n",
              "      <td>2025-03-01 00:23:06.879000+00:00</td>\n",
              "      <td>17950254656929862</td>\n",
              "      <td>Why use one scrub when you can use them all at...</td>\n",
              "      <td>i know this smells so good</td>\n",
              "      <td>Positive</td>\n",
              "      <td>0.975853</td>\n",
              "      <td>4</td>\n",
              "    </tr>\n",
              "    <tr>\n",
              "      <th>2</th>\n",
              "      <td>2025-03-01 00:04:05.094000+00:00</td>\n",
              "      <td>1090109319826090</td>\n",
              "      <td>Morning routine with Tree Hut 🍊🫧 Now available...</td>\n",
              "      <td>Love it</td>\n",
              "      <td>Positive</td>\n",
              "      <td>0.920526</td>\n",
              "      <td>26</td>\n",
              "    </tr>\n",
              "    <tr>\n",
              "      <th>3</th>\n",
              "      <td>2025-03-01 00:41:59.467000+00:00</td>\n",
              "      <td>1098364052333950</td>\n",
              "      <td>Why use one scrub when you can use them all at...</td>\n",
              "      <td>Please carry these in Canada! I miss them so m...</td>\n",
              "      <td>Positive</td>\n",
              "      <td>0.563846</td>\n",
              "      <td>37</td>\n",
              "    </tr>\n",
              "    <tr>\n",
              "      <th>4</th>\n",
              "      <td>2025-03-01 02:21:29.715000+00:00</td>\n",
              "      <td>1083943630442659</td>\n",
              "      <td>Vanilla Serum-Infused Hand Wash: A sweet escap...</td>\n",
              "      <td>I love it ..✌️</td>\n",
              "      <td>Positive</td>\n",
              "      <td>0.976451</td>\n",
              "      <td>34</td>\n",
              "    </tr>\n",
              "  </tbody>\n",
              "</table>\n",
              "</div>\n",
              "    <div class=\"colab-df-buttons\">\n",
              "\n",
              "  <div class=\"colab-df-container\">\n",
              "    <button class=\"colab-df-convert\" onclick=\"convertToInteractive('df-485233a9-05b3-4fde-989e-4f15e87d284b')\"\n",
              "            title=\"Convert this dataframe to an interactive table.\"\n",
              "            style=\"display:none;\">\n",
              "\n",
              "  <svg xmlns=\"http://www.w3.org/2000/svg\" height=\"24px\" viewBox=\"0 -960 960 960\">\n",
              "    <path d=\"M120-120v-720h720v720H120Zm60-500h600v-160H180v160Zm220 220h160v-160H400v160Zm0 220h160v-160H400v160ZM180-400h160v-160H180v160Zm440 0h160v-160H620v160ZM180-180h160v-160H180v160Zm440 0h160v-160H620v160Z\"/>\n",
              "  </svg>\n",
              "    </button>\n",
              "\n",
              "  <style>\n",
              "    .colab-df-container {\n",
              "      display:flex;\n",
              "      gap: 12px;\n",
              "    }\n",
              "\n",
              "    .colab-df-convert {\n",
              "      background-color: #E8F0FE;\n",
              "      border: none;\n",
              "      border-radius: 50%;\n",
              "      cursor: pointer;\n",
              "      display: none;\n",
              "      fill: #1967D2;\n",
              "      height: 32px;\n",
              "      padding: 0 0 0 0;\n",
              "      width: 32px;\n",
              "    }\n",
              "\n",
              "    .colab-df-convert:hover {\n",
              "      background-color: #E2EBFA;\n",
              "      box-shadow: 0px 1px 2px rgba(60, 64, 67, 0.3), 0px 1px 3px 1px rgba(60, 64, 67, 0.15);\n",
              "      fill: #174EA6;\n",
              "    }\n",
              "\n",
              "    .colab-df-buttons div {\n",
              "      margin-bottom: 4px;\n",
              "    }\n",
              "\n",
              "    [theme=dark] .colab-df-convert {\n",
              "      background-color: #3B4455;\n",
              "      fill: #D2E3FC;\n",
              "    }\n",
              "\n",
              "    [theme=dark] .colab-df-convert:hover {\n",
              "      background-color: #434B5C;\n",
              "      box-shadow: 0px 1px 3px 1px rgba(0, 0, 0, 0.15);\n",
              "      filter: drop-shadow(0px 1px 2px rgba(0, 0, 0, 0.3));\n",
              "      fill: #FFFFFF;\n",
              "    }\n",
              "  </style>\n",
              "\n",
              "    <script>\n",
              "      const buttonEl =\n",
              "        document.querySelector('#df-485233a9-05b3-4fde-989e-4f15e87d284b button.colab-df-convert');\n",
              "      buttonEl.style.display =\n",
              "        google.colab.kernel.accessAllowed ? 'block' : 'none';\n",
              "\n",
              "      async function convertToInteractive(key) {\n",
              "        const element = document.querySelector('#df-485233a9-05b3-4fde-989e-4f15e87d284b');\n",
              "        const dataTable =\n",
              "          await google.colab.kernel.invokeFunction('convertToInteractive',\n",
              "                                                    [key], {});\n",
              "        if (!dataTable) return;\n",
              "\n",
              "        const docLinkHtml = 'Like what you see? Visit the ' +\n",
              "          '<a target=\"_blank\" href=https://colab.research.google.com/notebooks/data_table.ipynb>data table notebook</a>'\n",
              "          + ' to learn more about interactive tables.';\n",
              "        element.innerHTML = '';\n",
              "        dataTable['output_type'] = 'display_data';\n",
              "        await google.colab.output.renderOutput(dataTable, element);\n",
              "        const docLink = document.createElement('div');\n",
              "        docLink.innerHTML = docLinkHtml;\n",
              "        element.appendChild(docLink);\n",
              "      }\n",
              "    </script>\n",
              "  </div>\n",
              "\n",
              "\n",
              "    <div id=\"df-276f31c6-4ccd-46f5-9604-03330dac841d\">\n",
              "      <button class=\"colab-df-quickchart\" onclick=\"quickchart('df-276f31c6-4ccd-46f5-9604-03330dac841d')\"\n",
              "                title=\"Suggest charts\"\n",
              "                style=\"display:none;\">\n",
              "\n",
              "<svg xmlns=\"http://www.w3.org/2000/svg\" height=\"24px\"viewBox=\"0 0 24 24\"\n",
              "     width=\"24px\">\n",
              "    <g>\n",
              "        <path d=\"M19 3H5c-1.1 0-2 .9-2 2v14c0 1.1.9 2 2 2h14c1.1 0 2-.9 2-2V5c0-1.1-.9-2-2-2zM9 17H7v-7h2v7zm4 0h-2V7h2v10zm4 0h-2v-4h2v4z\"/>\n",
              "    </g>\n",
              "</svg>\n",
              "      </button>\n",
              "\n",
              "<style>\n",
              "  .colab-df-quickchart {\n",
              "      --bg-color: #E8F0FE;\n",
              "      --fill-color: #1967D2;\n",
              "      --hover-bg-color: #E2EBFA;\n",
              "      --hover-fill-color: #174EA6;\n",
              "      --disabled-fill-color: #AAA;\n",
              "      --disabled-bg-color: #DDD;\n",
              "  }\n",
              "\n",
              "  [theme=dark] .colab-df-quickchart {\n",
              "      --bg-color: #3B4455;\n",
              "      --fill-color: #D2E3FC;\n",
              "      --hover-bg-color: #434B5C;\n",
              "      --hover-fill-color: #FFFFFF;\n",
              "      --disabled-bg-color: #3B4455;\n",
              "      --disabled-fill-color: #666;\n",
              "  }\n",
              "\n",
              "  .colab-df-quickchart {\n",
              "    background-color: var(--bg-color);\n",
              "    border: none;\n",
              "    border-radius: 50%;\n",
              "    cursor: pointer;\n",
              "    display: none;\n",
              "    fill: var(--fill-color);\n",
              "    height: 32px;\n",
              "    padding: 0;\n",
              "    width: 32px;\n",
              "  }\n",
              "\n",
              "  .colab-df-quickchart:hover {\n",
              "    background-color: var(--hover-bg-color);\n",
              "    box-shadow: 0 1px 2px rgba(60, 64, 67, 0.3), 0 1px 3px 1px rgba(60, 64, 67, 0.15);\n",
              "    fill: var(--button-hover-fill-color);\n",
              "  }\n",
              "\n",
              "  .colab-df-quickchart-complete:disabled,\n",
              "  .colab-df-quickchart-complete:disabled:hover {\n",
              "    background-color: var(--disabled-bg-color);\n",
              "    fill: var(--disabled-fill-color);\n",
              "    box-shadow: none;\n",
              "  }\n",
              "\n",
              "  .colab-df-spinner {\n",
              "    border: 2px solid var(--fill-color);\n",
              "    border-color: transparent;\n",
              "    border-bottom-color: var(--fill-color);\n",
              "    animation:\n",
              "      spin 1s steps(1) infinite;\n",
              "  }\n",
              "\n",
              "  @keyframes spin {\n",
              "    0% {\n",
              "      border-color: transparent;\n",
              "      border-bottom-color: var(--fill-color);\n",
              "      border-left-color: var(--fill-color);\n",
              "    }\n",
              "    20% {\n",
              "      border-color: transparent;\n",
              "      border-left-color: var(--fill-color);\n",
              "      border-top-color: var(--fill-color);\n",
              "    }\n",
              "    30% {\n",
              "      border-color: transparent;\n",
              "      border-left-color: var(--fill-color);\n",
              "      border-top-color: var(--fill-color);\n",
              "      border-right-color: var(--fill-color);\n",
              "    }\n",
              "    40% {\n",
              "      border-color: transparent;\n",
              "      border-right-color: var(--fill-color);\n",
              "      border-top-color: var(--fill-color);\n",
              "    }\n",
              "    60% {\n",
              "      border-color: transparent;\n",
              "      border-right-color: var(--fill-color);\n",
              "    }\n",
              "    80% {\n",
              "      border-color: transparent;\n",
              "      border-right-color: var(--fill-color);\n",
              "      border-bottom-color: var(--fill-color);\n",
              "    }\n",
              "    90% {\n",
              "      border-color: transparent;\n",
              "      border-bottom-color: var(--fill-color);\n",
              "    }\n",
              "  }\n",
              "</style>\n",
              "\n",
              "      <script>\n",
              "        async function quickchart(key) {\n",
              "          const quickchartButtonEl =\n",
              "            document.querySelector('#' + key + ' button');\n",
              "          quickchartButtonEl.disabled = true;  // To prevent multiple clicks.\n",
              "          quickchartButtonEl.classList.add('colab-df-spinner');\n",
              "          try {\n",
              "            const charts = await google.colab.kernel.invokeFunction(\n",
              "                'suggestCharts', [key], {});\n",
              "          } catch (error) {\n",
              "            console.error('Error during call to suggestCharts:', error);\n",
              "          }\n",
              "          quickchartButtonEl.classList.remove('colab-df-spinner');\n",
              "          quickchartButtonEl.classList.add('colab-df-quickchart-complete');\n",
              "        }\n",
              "        (() => {\n",
              "          let quickchartButtonEl =\n",
              "            document.querySelector('#df-276f31c6-4ccd-46f5-9604-03330dac841d button');\n",
              "          quickchartButtonEl.style.display =\n",
              "            google.colab.kernel.accessAllowed ? 'block' : 'none';\n",
              "        })();\n",
              "      </script>\n",
              "    </div>\n",
              "\n",
              "    </div>\n",
              "  </div>\n"
            ],
            "application/vnd.google.colaboratory.intrinsic+json": {
              "type": "dataframe",
              "variable_name": "df",
              "summary": "{\n  \"name\": \"df\",\n  \"rows\": 17841,\n  \"fields\": [\n    {\n      \"column\": \"timestamp\",\n      \"properties\": {\n        \"dtype\": \"string\",\n        \"num_unique_values\": 17840,\n        \"samples\": [\n          \"2025-03-21 16:26:01.959000+00:00\",\n          \"2025-03-11 12:50:49.213000+00:00\",\n          \"2025-03-04 17:06:31.135000+00:00\"\n        ],\n        \"semantic_type\": \"\",\n        \"description\": \"\"\n      }\n    },\n    {\n      \"column\": \"media_id\",\n      \"properties\": {\n        \"dtype\": \"number\",\n        \"std\": 6297451613373289,\n        \"min\": 895505052619852,\n        \"max\": 18499994980028530,\n        \"num_unique_values\": 355,\n        \"samples\": [\n          1103278341842521,\n          18056284969869213,\n          1124077123095976\n        ],\n        \"semantic_type\": \"\",\n        \"description\": \"\"\n      }\n    },\n    {\n      \"column\": \"media_caption\",\n      \"properties\": {\n        \"dtype\": \"category\",\n        \"num_unique_values\": 212,\n        \"samples\": [\n          \"*slams laptop shut* \\u270c\\ufe0f\\ud83d\\udebf\\ud83c\\udf34 click the link to get my fave sugar scrub\",\n          \"Time to unwind, refresh, and take care of yourself. \\u2728\\ud83e\\udee7\\nWhat\\u2019s your favorite part of your self-care routine?! Let us know in the comments \\ud83d\\udc47\\ud83d\\udc96 \\n\\nShop the vanilla collection today @walmart \\ud83d\\uded2\\n#TreeHutGlow #SelfCareRoutine #everythingshower\",\n          \"Not just walking\\u2026 full-speed sprinting to grab the Pre-Shave Foaming Polishes at Ulta Beauty  \\ud83c\\udfc3\\u200d\\u2640\\ufe0f\\ud83d\\udca8\\u2728\"\n        ],\n        \"semantic_type\": \"\",\n        \"description\": \"\"\n      }\n    },\n    {\n      \"column\": \"comment_text\",\n      \"properties\": {\n        \"dtype\": \"category\",\n        \"num_unique_values\": 8569,\n        \"samples\": [\n          \"' \\ud83d\\ude0d\\ud83c\\udf3a\",\n          \"Still in love, will definitely be getting the other scents. \\n\\n \\ud83e\\udd70\\ud83d\\ude29\\n\\n#simpleluxury #luxurywithinreach\\n #ugccreator #ugccommunity\",\n          \"'.pirolozzi\"\n        ],\n        \"semantic_type\": \"\",\n        \"description\": \"\"\n      }\n    },\n    {\n      \"column\": \"sentiment\",\n      \"properties\": {\n        \"dtype\": \"category\",\n        \"num_unique_values\": 3,\n        \"samples\": [\n          \"Positive\",\n          \"Neutral\",\n          \"Negative\"\n        ],\n        \"semantic_type\": \"\",\n        \"description\": \"\"\n      }\n    },\n    {\n      \"column\": \"sentiment_score\",\n      \"properties\": {\n        \"dtype\": \"number\",\n        \"std\": 0.14329982019189463,\n        \"min\": 0.34752365946769714,\n        \"max\": 0.9939034581184387,\n        \"num_unique_values\": 8563,\n        \"samples\": [\n          0.7713851928710938,\n          0.8252214789390564,\n          0.45317625999450684\n        ],\n        \"semantic_type\": \"\",\n        \"description\": \"\"\n      }\n    },\n    {\n      \"column\": \"cluster\",\n      \"properties\": {\n        \"dtype\": \"int32\",\n        \"num_unique_values\": 49,\n        \"samples\": [\n          3,\n          43,\n          40\n        ],\n        \"semantic_type\": \"\",\n        \"description\": \"\"\n      }\n    }\n  ]\n}"
            }
          },
          "metadata": {},
          "execution_count": 57
        }
      ]
    },
    {
      "cell_type": "code",
      "source": [
        "pd.set_option('display.max_colwidth', None)\n",
        "print(df[(df['sentiment']=='Negative')].sort_values(by='sentiment_score').head())\n",
        "pd.reset_option('display.max_colwidth')"
      ],
      "metadata": {
        "id": "YjFJPnnyr_sY",
        "outputId": "898c4fdd-28a1-45ce-8331-53f57aa9b966",
        "colab": {
          "base_uri": "https://localhost:8080/"
        }
      },
      "execution_count": 61,
      "outputs": [
        {
          "output_type": "stream",
          "name": "stdout",
          "text": [
            "                              timestamp           media_id  \\\n",
            "17640  2025-04-02 15:04:19.263000+00:00  18042792911388637   \n",
            "8602   2025-04-02 15:04:19.408000+00:00  18042792911388637   \n",
            "15839  2025-03-26 03:18:24.057000+00:00   1119777363525952   \n",
            "579    2025-03-06 22:17:07.595000+00:00   1090857956417893   \n",
            "379    2025-03-05 21:03:34.940000+00:00  18488746642028116   \n",
            "\n",
            "                                                                                                                                                                                                                                          media_caption  \\\n",
            "17640  No passport is required when you use our Tropic Glow Collection.\\n\\nGet the ultimate sun-kissed radiance from head to toe, all without leaving your bathroom. 🏝️\\n\\n📸: @someshellyphotography\\n#treehut #treehutcollection #selfcare #tropicglow   \n",
            "8602   No passport is required when you use our Tropic Glow Collection.\\n\\nGet the ultimate sun-kissed radiance from head to toe, all without leaving your bathroom. 🏝️\\n\\n📸: @someshellyphotography\\n#treehut #treehutcollection #selfcare #tropicglow   \n",
            "15839                                                                                                                                      Make Sugarlip keychains with us✨💎\\n\\nWant to make your own? Find our Sugarlips Lip Butters today at Target 📍   \n",
            "579                                                                                                                                                                                      Soft skin, soft life 🩷🌸🫧 get your hands on this self-care gem!   \n",
            "379                                                                             Swipe right or left… either way, our Pineapple Lip Butter will keep your lips soft, smooth and feeling tropical 🍍💋\\n\\n#treehut #treehutcollection #lipbutter #hydrating   \n",
            "\n",
            "                                                                                                                                                                comment_text  \\\n",
            "17640  ' I haven’t tried your lotions yet somehow!!! I’m scratching my head like how is that possible, also no body spray either 😮! And I’m dying to try the new lip mask. 🙌   \n",
            "8602   ' I haven’t tried your lotions yet somehow!!! I’m scratching my head like how is that possible, also no body spray either 😮! And I’m dying to try the new lip mask. 🙌   \n",
            "15839                                                            My tube consistently breaks at the opening, I love the product but it’s a headache when you just purchased.   \n",
            "579                                                                         I love using it, but you better not raise the prices since you're wasting it on this commercial.   \n",
            "379                                                                                                      ❤️🔥need to try this!! Cold weather in NEPA has been killing my lips   \n",
            "\n",
            "      sentiment  sentiment_score  cluster  \n",
            "17640  Negative         0.347524       16  \n",
            "8602   Negative         0.347524       16  \n",
            "15839  Negative         0.361484       20  \n",
            "579    Negative         0.382878       29  \n",
            "379    Negative         0.383217       45  \n"
          ]
        }
      ]
    },
    {
      "cell_type": "markdown",
      "source": [
        "## Summarization"
      ],
      "metadata": {
        "id": "rNvr5OVVJQ-o"
      }
    },
    {
      "cell_type": "markdown",
      "source": [
        "## Results export"
      ],
      "metadata": {
        "id": "jZELIZ0uJTYC"
      }
    },
    {
      "cell_type": "markdown",
      "source": [
        "### Final Plots"
      ],
      "metadata": {
        "id": "Il-d-YtNJXb6"
      }
    },
    {
      "cell_type": "code",
      "source": [
        "# summarizer = pipeline(\"summarization\", model=\"facebook/bart-large-cnn\")\n",
        "summarizer = pipeline(\"summarization\", model=\"google/flan-t5-large\")\n"
      ],
      "metadata": {
        "id": "H61GmjrLLbdW"
      },
      "execution_count": null,
      "outputs": []
    },
    {
      "cell_type": "code",
      "source": [
        "allcomments = \"Summarize all the fllowing user comments on product: \"+\" \".join(comments)\n",
        "summary = summarizer(allcomments, max_length=15, min_length=5, do_sample=False)\n",
        "print(summary)"
      ],
      "metadata": {
        "id": "Vy0P5e9wLxNS"
      },
      "execution_count": null,
      "outputs": []
    },
    {
      "cell_type": "code",
      "source": [
        "text = '''summarize the following news about NVIDIA: NVIDIA T4 was introduced 4 years ago as a universal GPU for use in mainstream servers. T4 GPUs achieved widespread adoption and are now the highest-volume NVIDIA data center GPU. T4 GPUs were deployed into use cases for AI inference, cloud gaming, video, and visual computing.At the NVIDIA GTC 2023 keynote, NVIDIA introduced several inference platforms for AI workloads, including the NVIDIA T4 successor: the NVIDIA L4 Tensor Core GPU. The L4 GPU is now the universal, energy-efficient accelerator designed to meet AI needs for video, visual computing, graphics, virtualization, generative AI, and numerous applications for edge computing.\n",
        "In this post, we walk through how mainstream servers with the L4 GPUs provide more AI video performance and enable more video streams compared to the previous generation (T4). You will find proven results for use cases ranging from video streaming to drug discovery and learn how you can experience the difference of running an AI workload on the L4 GPU today.'''"
      ],
      "metadata": {
        "id": "ICmlM8zoMrJi"
      },
      "execution_count": null,
      "outputs": []
    },
    {
      "cell_type": "code",
      "source": [
        "prompt = \"\"\"\n",
        "Summarize the following customer reviews into key points of satisfaction and dissatisfaction:\n",
        "\n",
        "Reviews:\n",
        "1. I love this product, it’s fantastic!\n",
        "2. The delivery was late and support was unhelpful.\n",
        "3. Packaging was okay, nothing special.\n",
        "4. Great quality, I’ll buy again.\n",
        "5. Service is terrible, I want a refund.\n",
        "\"\"\""
      ],
      "metadata": {
        "id": "ofRCwJmLOrFe"
      },
      "execution_count": null,
      "outputs": []
    },
    {
      "cell_type": "code",
      "source": [
        "summary = summarizer(prompt, max_new_tokens=15, min_length=5, do_sample=False)\n",
        "print(summary[0]['summary_text'])"
      ],
      "metadata": {
        "id": "hYD-odeyM1-i"
      },
      "execution_count": null,
      "outputs": []
    }
  ]
}