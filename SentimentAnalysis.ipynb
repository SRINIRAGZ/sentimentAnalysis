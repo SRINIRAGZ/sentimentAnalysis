{
  "nbformat": 4,
  "nbformat_minor": 0,
  "metadata": {
    "colab": {
      "provenance": [],
      "machine_shape": "hm",
      "gpuType": "L4",
      "mount_file_id": "https://github.com/SRINIRAGZ/sentimentAnalysis/blob/main/SentimentAnalysis.ipynb",
      "authorship_tag": "ABX9TyMG/u4R9xjdaDSFQuU7UdkY",
      "include_colab_link": true
    },
    "kernelspec": {
      "name": "python3",
      "display_name": "Python 3"
    },
    "language_info": {
      "name": "python"
    },
    "accelerator": "GPU"
  },
  "cells": [
    {
      "cell_type": "markdown",
      "metadata": {
        "id": "view-in-github",
        "colab_type": "text"
      },
      "source": [
        "<a href=\"https://colab.research.google.com/github/SRINIRAGZ/sentimentAnalysis/blob/main/SentimentAnalysis.ipynb\" target=\"_parent\"><img src=\"https://colab.research.google.com/assets/colab-badge.svg\" alt=\"Open In Colab\"/></a>"
      ]
    },
    {
      "cell_type": "markdown",
      "source": [
        "# Clone the git repo"
      ],
      "metadata": {
        "id": "Cf9v_nBWQs1U"
      }
    },
    {
      "cell_type": "code",
      "source": [
        "from getpass import getpass\n",
        "\n",
        "# Securely ask for GitHub token\n",
        "token = getpass(\"Enter your GitHub token: \")\n",
        "!git clone https://{token}@github.com/SRINIRAGZ/sentimentAnalysis.git"
      ],
      "metadata": {
        "id": "ZN6u5RpILCka"
      },
      "execution_count": null,
      "outputs": []
    },
    {
      "cell_type": "markdown",
      "source": [
        "# Installation of libraries"
      ],
      "metadata": {
        "id": "zraEa_5MIRQG"
      }
    },
    {
      "cell_type": "code",
      "execution_count": null,
      "metadata": {
        "id": "kg3U2ZS3IlU1"
      },
      "outputs": [],
      "source": [
        "!pip install transformers torch"
      ]
    },
    {
      "cell_type": "markdown",
      "source": [
        "# Code"
      ],
      "metadata": {
        "id": "szATbDc4Bwu-"
      }
    },
    {
      "cell_type": "code",
      "source": [
        "import numpy as np\n",
        "import os\n",
        "import pandas as pd\n",
        "import re\n",
        "\n",
        "\n",
        "import matplotlib.pyplot as plt\n",
        "import seaborn as sns\n",
        "%matplotlib inline\n",
        "\n",
        "current_directory = os.getcwd()\n",
        "print(f\"Current working directory: {current_directory}\")"
      ],
      "metadata": {
        "id": "lFA94nB-Iu_u"
      },
      "execution_count": null,
      "outputs": []
    },
    {
      "cell_type": "markdown",
      "source": [
        "## Configs"
      ],
      "metadata": {
        "id": "fMBGBh1AXPLK"
      }
    },
    {
      "cell_type": "code",
      "source": [
        "filename = 'engagements.csv'\n",
        "DataFolder = './sentimentAnalysis/data/{filename}'\n",
        "ResultsFolder = './sentimentAnalysis/results/{filename}'"
      ],
      "metadata": {
        "id": "m3K9qhJyKTi8"
      },
      "execution_count": null,
      "outputs": []
    },
    {
      "cell_type": "markdown",
      "source": [
        "## Data Import"
      ],
      "metadata": {
        "id": "4vCCQZcxI4qM"
      }
    },
    {
      "cell_type": "code",
      "source": [
        "df = pd.read_csv(DataFolder.format(filename=filename))"
      ],
      "metadata": {
        "id": "6fD-nERUI3PV"
      },
      "execution_count": null,
      "outputs": []
    },
    {
      "cell_type": "code",
      "source": [
        "df.head()"
      ],
      "metadata": {
        "id": "nHXZFuZ4AZ8F"
      },
      "execution_count": null,
      "outputs": []
    },
    {
      "cell_type": "markdown",
      "source": [
        "## Data Cleaning"
      ],
      "metadata": {
        "id": "JO3tw2VHI7p2"
      }
    },
    {
      "cell_type": "markdown",
      "source": [
        "converting to valid datetime type for tiemstamp\n",
        "\\n converting text colums to string and stripping any leading and trailing spaces\n"
      ],
      "metadata": {
        "id": "rD5RSVFOBRKN"
      }
    },
    {
      "cell_type": "code",
      "source": [
        "\n",
        "df['timestamp'] = pd.to_datetime(df['timestamp'], format='mixed', utc=True)\n",
        "df['media_caption'] = df['media_caption'].astype(str)\n",
        "df['media_caption'] = df['media_caption'].str.strip()\n",
        "df['comment_text'] = df['comment_text'].astype(str)\n",
        "df['comment_text'] = df['comment_text'].str.strip()\n",
        "print(df.shape)\n",
        "print(df.dtypes)"
      ],
      "metadata": {
        "id": "_UKFbNkB6zg4"
      },
      "execution_count": null,
      "outputs": []
    },
    {
      "cell_type": "markdown",
      "source": [
        "cleaning duplicates if present"
      ],
      "metadata": {
        "id": "8QiBIw7KCDIU"
      }
    },
    {
      "cell_type": "code",
      "source": [
        "df.drop_duplicates(inplace=True)\n",
        "df.shape"
      ],
      "metadata": {
        "id": "Ui8lq1GH69lv"
      },
      "execution_count": null,
      "outputs": []
    },
    {
      "cell_type": "markdown",
      "source": [
        "estimatine timestap difference between same media"
      ],
      "metadata": {
        "id": "fWeix7kWCIeN"
      }
    },
    {
      "cell_type": "code",
      "source": [
        "\n",
        "df.sort_values(['timestamp','media_id'], inplace=True)\n",
        "df['timedelta'] = df.groupby('media_id')['timestamp'].diff()"
      ],
      "metadata": {
        "id": "_TkCqynp_n0D"
      },
      "execution_count": null,
      "outputs": []
    },
    {
      "cell_type": "markdown",
      "source": [
        "add comment category by looking for mentions\n",
        "Splitting into 3-4 categories (Comments - comments only; mentions - mentions only; commentions - mentions and comments existing; no comments - anything left blank)"
      ],
      "metadata": {
        "id": "FoHE9Z2FCMOS"
      }
    },
    {
      "cell_type": "code",
      "source": [
        "\n",
        "def comments_category(text):\n",
        "  mention_pattern = r\"'@\\w+\"\n",
        "  has_mention = re.search(mention_pattern, text)\n",
        "  text_without_mentions = re.sub(mention_pattern, '', text)\n",
        "  if has_mention and text_without_mentions == '':\n",
        "      return 'mentions'\n",
        "  elif has_mention and text_without_mentions != '':\n",
        "      return 'commentions'\n",
        "  elif len(text.strip())==0:\n",
        "      return 'no comments'\n",
        "  else:\n",
        "      return 'comments'\n",
        "\n"
      ],
      "metadata": {
        "id": "yc2IAcKskFc_"
      },
      "execution_count": null,
      "outputs": []
    },
    {
      "cell_type": "code",
      "source": [
        "df['comment_type'] = df['comment_text'].apply(comments_category)\n",
        "df['comment_type'].value_counts()"
      ],
      "metadata": {
        "id": "Zm4tT1CdhUA5"
      },
      "execution_count": null,
      "outputs": []
    },
    {
      "cell_type": "markdown",
      "source": [
        "add media count"
      ],
      "metadata": {
        "id": "kAjju2XbCPo9"
      }
    },
    {
      "cell_type": "code",
      "source": [
        "\n",
        "df['count'] = df.groupby('media_id')['media_id'].transform('count')\n"
      ],
      "metadata": {
        "id": "Ps0i2uRwd5_C"
      },
      "execution_count": null,
      "outputs": []
    },
    {
      "cell_type": "markdown",
      "source": [
        "add comments without mentions"
      ],
      "metadata": {
        "id": "pouKLeVmCSD8"
      }
    },
    {
      "cell_type": "code",
      "source": [
        "\n",
        "df['comment_wo_mentions'] = df['comment_text'].str.replace(r\"'@\\w+\",'', regex=True)\n",
        "df[df['comment_type']=='mentions'].head()"
      ],
      "metadata": {
        "id": "N7FR3R0-oBMD"
      },
      "execution_count": null,
      "outputs": []
    },
    {
      "cell_type": "markdown",
      "source": [
        "## Looking for Semantic Similarities between media text"
      ],
      "metadata": {
        "id": "L9a-ViRnoaAB"
      }
    },
    {
      "cell_type": "markdown",
      "source": [
        "Semantic similarities can be achieved using mini language models which help in identifying clusters in language models and also help in clustering. Here our aim is to cluster using the embeddings we can further chalk analyze based on individula clusters."
      ],
      "metadata": {
        "id": "IFAw17k-ogMe"
      }
    },
    {
      "cell_type": "code",
      "source": [
        "#params\n",
        "MODEL='all-mpnet-base-v2' #'all-MiniLM-L12-v2'"
      ],
      "metadata": {
        "id": "Dxr2EEV2uSce"
      },
      "execution_count": null,
      "outputs": []
    },
    {
      "cell_type": "code",
      "source": [
        "df2=df[['media_id','media_caption']].drop_duplicates()"
      ],
      "metadata": {
        "id": "YfkUdEjhjBco"
      },
      "execution_count": null,
      "outputs": []
    },
    {
      "cell_type": "code",
      "source": [
        "from sentence_transformers import SentenceTransformer\n",
        "from sklearn.cluster import KMeans\n",
        "\n",
        "# Generate embeddings\n",
        "embedder = SentenceTransformer(MODEL)\n",
        "embeddings = embedder.encode(list(df2['media_caption']))\n",
        "\n"
      ],
      "metadata": {
        "id": "FLW_Kox1joLm"
      },
      "execution_count": null,
      "outputs": []
    },
    {
      "cell_type": "markdown",
      "source": [
        "Looking at optimal cluster value for media captions"
      ],
      "metadata": {
        "id": "kk38ILOdChJf"
      }
    },
    {
      "cell_type": "code",
      "source": [
        "clusterlist = range(3,10)\n",
        "sse=[]\n",
        "\n",
        "for k in clusterlist:\n",
        "    clustering_model = KMeans(n_clusters=k, random_state=42)\n",
        "    clustering_model.fit(embeddings)\n",
        "    sse.append(clustering_model.inertia_)\n",
        "\n",
        "# Plot Elbow Curve\n",
        "plt.plot(clusterlist, sse, marker='o')\n",
        "plt.xlabel(\"Number of clusters\")\n",
        "plt.ylabel(\"Within-cluster SSE\")\n",
        "plt.title(\"Elbow Method for Optimal cluster\")\n",
        "plt.show()\n",
        "# for k, sse in zip(list(range(len(sse))),sse):\n",
        "#   print(k, sse)"
      ],
      "metadata": {
        "id": "q5RkqlQnqTDJ"
      },
      "execution_count": null,
      "outputs": []
    },
    {
      "cell_type": "markdown",
      "source": [
        "Running Kmeans on optimal cluster value of 38 which is the elbow"
      ],
      "metadata": {
        "id": "laivq8ksCoOx"
      }
    },
    {
      "cell_type": "code",
      "source": [
        "# k= ~10 for optimal clustering\n",
        "num_clusters = 10\n",
        "clustering_model = KMeans(n_clusters=num_clusters, random_state=42)\n",
        "clustering_model.fit(embeddings)\n",
        "cluster_assignment = clustering_model.labels_"
      ],
      "metadata": {
        "id": "2FjABt8TpvDE"
      },
      "execution_count": null,
      "outputs": []
    },
    {
      "cell_type": "code",
      "source": [
        "df2['cluster'] = cluster_assignment\n",
        "df2.head()"
      ],
      "metadata": {
        "id": "qfizbNyarbCp"
      },
      "execution_count": null,
      "outputs": []
    },
    {
      "cell_type": "markdown",
      "source": [
        "adding the cluster value to original dataframe"
      ],
      "metadata": {
        "id": "Vyfnpz4SDD6A"
      }
    },
    {
      "cell_type": "code",
      "source": [
        "df = df.merge(df2[['media_id','cluster']],how='left',on='media_id')\n",
        "df['cluster'] = df['cluster'].astype(str)\n",
        "df.head()"
      ],
      "metadata": {
        "id": "MEPS1wdPk-xP"
      },
      "execution_count": null,
      "outputs": []
    },
    {
      "cell_type": "markdown",
      "source": [
        "## Sentiment Analysis"
      ],
      "metadata": {
        "id": "6fBPEkdlJFiG"
      }
    },
    {
      "cell_type": "markdown",
      "source": [
        "Using RoBERTa model to analyse sentiment because its a robust pretrained BERT model optimized for sentiment analysis. BERT also is better at understanding context"
      ],
      "metadata": {
        "id": "ZVSQEDpoaI9x"
      }
    },
    {
      "cell_type": "code",
      "source": [
        "#model params\n",
        "MODEL = \"cardiffnlp/twitter-roberta-base-sentiment\"\n",
        "label_mapping = {'LABEL_0': 'Negative', 'LABEL_1': 'Neutral', 'LABEL_2': 'Positive'}"
      ],
      "metadata": {
        "id": "494TPPx1krj7"
      },
      "execution_count": null,
      "outputs": []
    },
    {
      "cell_type": "code",
      "source": [
        "from transformers import pipeline\n",
        "\n",
        "# Load sentiment analysis pipeline\n",
        "\n",
        "sentiment_classifier = pipeline(\"sentiment-analysis\", model=MODEL)\n"
      ],
      "metadata": {
        "id": "gYoYDiG4JHVs"
      },
      "execution_count": null,
      "outputs": []
    },
    {
      "cell_type": "markdown",
      "source": [
        "Run sentiment analysis on comments without mentions that we have created"
      ],
      "metadata": {
        "id": "VIxaFGrPD-tH"
      }
    },
    {
      "cell_type": "code",
      "source": [
        "# Run sentiment analysis\n",
        "df3 = list(df['comment_wo_mentions'])\n",
        "results = sentiment_classifier(df3)"
      ],
      "metadata": {
        "id": "nmxr8IIzKx99"
      },
      "execution_count": null,
      "outputs": []
    },
    {
      "cell_type": "code",
      "source": [
        "#Rework on the dataframe with sentiment results\n",
        "df['sentiment'] = [label_mapping[result['label']] for result in results]\n",
        "df['sentiment_score'] = [result['score'] for result in results]\n",
        "df.head()"
      ],
      "metadata": {
        "id": "Rg-_K33YmAfY"
      },
      "execution_count": null,
      "outputs": []
    },
    {
      "cell_type": "markdown",
      "source": [
        "# Results Analysis"
      ],
      "metadata": {
        "id": "46EjVKX4nOXN"
      }
    },
    {
      "cell_type": "markdown",
      "source": [
        "Sentiment analysis even though exists for all comments, it mainly pertain to only commnets and commentions (meaning comments with mentions)"
      ],
      "metadata": {
        "id": "SbQJGlcLE3mh"
      }
    },
    {
      "cell_type": "code",
      "source": [
        "df.pivot_table(index='comment_type', columns='sentiment',values='sentiment_score',aggfunc='mean')"
      ],
      "metadata": {
        "id": "kYiAXg2bnRGg"
      },
      "execution_count": null,
      "outputs": []
    },
    {
      "cell_type": "markdown",
      "source": [
        "above data tells that mentions are always neutral.l sentiment analysis is for only the comment text having comments and not mentions only."
      ],
      "metadata": {
        "id": "vZEcsV9ZFg4J"
      }
    },
    {
      "cell_type": "markdown",
      "source": [
        "###Prepping data for mentions count by media and cluster\n",
        "### mentions count can be treated as positive as customers are exposing visibility to other users impacting in a positive way"
      ],
      "metadata": {
        "id": "0zLwc0KLFq4v"
      }
    },
    {
      "cell_type": "code",
      "source": [
        "df['mentions_count_bymedia'] = df[df.comment_type.str.contains('mentions')].groupby('media_id',as_index=False)['comment_type'].transform('count')\n",
        "df['mentions_count_bycluster'] = df[df.comment_type.str.contains('mentions')].groupby('cluster',as_index=False)['comment_type'].transform('count')\n",
        "\n",
        "df[df.comment_type== 'mentions'].head()\n"
      ],
      "metadata": {
        "id": "cmluJ1GprA-F"
      },
      "execution_count": null,
      "outputs": []
    },
    {
      "cell_type": "code",
      "source": [
        "df4 = df[(df.comment_type== 'mentions')&(df.mentions_count_bymedia>10)][['media_id','mentions_count_bymedia']].drop_duplicates()\n",
        "fig,ax = plt.subplots(figsize=(10, 6))\n",
        "sns.barplot(data=df4,y='mentions_count_bymedia',x='media_id', ax=ax, order=df4.sort_values('mentions_count_bymedia', ascending=False).media_id)\n",
        "ax.set_xlabel('Media ID')\n",
        "ax.set_ylabel('Mentions Count')\n",
        "ax.set_title('Top media id where Mentions Count is high')\n",
        "ax.set_xticklabels(ax.get_xticklabels(), rotation=90)\n",
        "plt.show()"
      ],
      "metadata": {
        "id": "XI6OrHXptHuS"
      },
      "execution_count": null,
      "outputs": []
    },
    {
      "cell_type": "markdown",
      "source": [
        "### Clusters have some indepth meaning based on the text the captions have"
      ],
      "metadata": {
        "id": "9bAyckbSGMMg"
      }
    },
    {
      "cell_type": "code",
      "source": [
        "df4 = df[(df.comment_type== 'mentions')&(df.mentions_count_bycluster>10)][['cluster','mentions_count_bycluster']].drop_duplicates()\n",
        "df4['cluster'] = df4['cluster'].astype(str)\n",
        "print(df4.dtypes)\n",
        "fig2,ax2 = plt.subplots(figsize=(10, 6))\n",
        "sns.barplot(data=df4,y='mentions_count_bycluster', x='cluster', ax=ax2)\n",
        "ax2.set_xlabel('cluster')\n",
        "ax2.set_ylabel('Mentions Count')\n",
        "ax2.set_title('Top clusters where Mentions Count is high')\n",
        "plt.show()"
      ],
      "metadata": {
        "id": "Jbbkv1QNvJF2"
      },
      "execution_count": null,
      "outputs": []
    },
    {
      "cell_type": "markdown",
      "source": [
        "###sentiment plot by media"
      ],
      "metadata": {
        "id": "KgR9WpfMGZJC"
      }
    },
    {
      "cell_type": "code",
      "source": [
        "def sentiment_bar_plot(col, title, rot=0, sortby='x'):\n",
        "  sentiment_counts = df.groupby([col, 'sentiment']).size().unstack(fill_value=0)\n",
        "\n",
        "  if sortby=='x':\n",
        "    top_ids = df[col].value_counts().head(10).index\n",
        "    sentiment_counts_subset = sentiment_counts.loc[top_ids]\n",
        "  else:\n",
        "    top_ids = sentiment_counts.sort_values(by=sortby,ascending=False).head(10).index\n",
        "    sentiment_counts_subset = sentiment_counts.loc[top_ids][sortby]\n",
        "\n",
        "  sentiment_counts_subset.plot(kind='bar', figsize=(15, 7))\n",
        "  plt.title(f'Sentiment Distribution per {title}')\n",
        "  plt.xlabel(f'{col}')\n",
        "  plt.ylabel('Number of Comments')\n",
        "  plt.xticks(rotation=rot)\n",
        "  plt.tight_layout()\n",
        "  plt.show()"
      ],
      "metadata": {
        "id": "60fJW34TH9gC"
      },
      "execution_count": null,
      "outputs": []
    },
    {
      "cell_type": "code",
      "source": [
        "\n",
        "sentiment_bar_plot(col='media_id', title='media (top 10)', rot=90)\n"
      ],
      "metadata": {
        "id": "mIezHjLOIPxX"
      },
      "execution_count": null,
      "outputs": []
    },
    {
      "cell_type": "markdown",
      "source": [
        "###Top negative comments by media"
      ],
      "metadata": {
        "id": "7b7lUznTLVUS"
      }
    },
    {
      "cell_type": "code",
      "source": [
        "sentiment_bar_plot(col='media_id', title='media (top 10) - Negative', rot=90, sortby='Negative')"
      ],
      "metadata": {
        "id": "k4TBPJcXz5Nv"
      },
      "execution_count": null,
      "outputs": []
    },
    {
      "cell_type": "markdown",
      "source": [
        "###Top comments by cluster"
      ],
      "metadata": {
        "id": "qSNhdwrcLalP"
      }
    },
    {
      "cell_type": "code",
      "source": [
        "sentiment_bar_plot(col='cluster', title='cluster', rot=0)"
      ],
      "metadata": {
        "id": "IZfPI9uZGd4S"
      },
      "execution_count": null,
      "outputs": []
    },
    {
      "cell_type": "markdown",
      "source": [
        "###Top negative comment by cluster"
      ],
      "metadata": {
        "id": "V6BR8H9VLkR-"
      }
    },
    {
      "cell_type": "code",
      "source": [
        "sentiment_bar_plot(col='cluster', title='cluster', rot=90, sortby='Negative')"
      ],
      "metadata": {
        "id": "qsMCOqs3Hh8x"
      },
      "execution_count": null,
      "outputs": []
    },
    {
      "cell_type": "markdown",
      "source": [
        "###SCatter plot of total comments for each media to removing extremeties"
      ],
      "metadata": {
        "id": "FXgEIa6ULt-j"
      }
    },
    {
      "cell_type": "markdown",
      "source": [
        "No significant conclusion can be obtained from the counts vs sentiment"
      ],
      "metadata": {
        "id": "Vyd-VrdpL338"
      }
    },
    {
      "cell_type": "code",
      "source": [
        "fig, ax = plt.subplots(figsize=(20, 6))\n",
        "sentiment_df = df[(df.comment_type.str.contains('com'))&(df['count']>25)&(df['count']<250)].copy()\n",
        "sentiment_df['media_id'] = sentiment_df['media_id'].astype(str)\n",
        "sentiment_df.head()\n",
        "\n",
        "\n",
        "sns.scatterplot(data=sentiment_df, x='media_id', y='count', ax=ax, hue='sentiment')\n",
        "ax.set_xticklabels(ax.get_xticklabels(), rotation=90)\n",
        "ax.set_ylabel('Count')\n",
        "ax.set_title('Count (without extremeties) vs Media ID - colored by sentiment')\n",
        "plt.xticks(rotation=90)\n",
        "# ax.set_yscale('log')\n",
        "plt.tight_layout()\n",
        "plt.show()"
      ],
      "metadata": {
        "id": "rL8huIKu7WVi"
      },
      "execution_count": null,
      "outputs": []
    },
    {
      "cell_type": "markdown",
      "source": [
        "## Summarization"
      ],
      "metadata": {
        "id": "rNvr5OVVJQ-o"
      }
    },
    {
      "cell_type": "markdown",
      "source": [
        "Summarization model summarizes user comments across different media within positive and negative sentiments. Using BART of flan that has better autoencoder and decoder model for understanding sentiemnt as well as generating the summary"
      ],
      "metadata": {
        "id": "KlaNPqFiMDAn"
      }
    },
    {
      "cell_type": "code",
      "source": [
        "summarizer_model = \"facebook/bart-large-cnn\"#\"facebook/bart-large-cnn\" #\"google/flan-t5-large\""
      ],
      "metadata": {
        "id": "GMjH0eoA6bYq"
      },
      "execution_count": null,
      "outputs": []
    },
    {
      "cell_type": "code",
      "source": [
        "\n",
        "df[(df['media_id']==17872089159294304)&(df.comment_type.str.contains('com'))&(df.sentiment=='Negative')].shape"
      ],
      "metadata": {
        "id": "KnZ342VfPWVQ"
      },
      "execution_count": null,
      "outputs": []
    },
    {
      "cell_type": "code",
      "source": [
        "summarizer = pipeline(\"summarization\", model=summarizer_model)\n"
      ],
      "metadata": {
        "id": "H61GmjrLLbdW"
      },
      "execution_count": null,
      "outputs": []
    },
    {
      "cell_type": "markdown",
      "source": [
        "#####generate summarization for media with more comments: say ones with more than 50 comments"
      ],
      "metadata": {
        "id": "hsRQK4B7MkVx"
      }
    },
    {
      "cell_type": "code",
      "source": [
        "df_summary = df[(df['count']>100)&(df.media_id!=17872089159294304)]"
      ],
      "metadata": {
        "id": "YxH0xDEaMiQt"
      },
      "execution_count": null,
      "outputs": []
    },
    {
      "cell_type": "code",
      "source": [
        "\n",
        "# for m in df_summary['media_id'].unique():\n",
        "#   print(f'\\nmedia: {m}')\n",
        "#   for s in ['Positive','Negative']:\n",
        "#     df_tmp = df[(df['media_id']==m)&(df.comment_type.str.contains('com'))&(df.sentiment==s)]\n",
        "#     if df_tmp.shape[0]<5:\n",
        "#       continue\n",
        "#     comments = list(df_tmp['comment_wo_mentions'])\n",
        "#     comments = [str(i)+\". \"+c+\"\\n\" for i,c in enumerate(comments)]\n",
        "#     allcomments = f\"Summarize all the following {s} user comments on products: \" + \" \".join(comments)\n",
        "#     summary = summarizer(allcomments, max_length=25, min_length=5, do_sample=False)\n",
        "#     print(f\"\\t{s} summary: {summary[0]['summary_text']}\")\n"
      ],
      "metadata": {
        "id": "Vy0P5e9wLxNS"
      },
      "execution_count": null,
      "outputs": []
    }
  ]
}