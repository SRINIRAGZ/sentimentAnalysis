{
  "nbformat": 4,
  "nbformat_minor": 0,
  "metadata": {
    "colab": {
      "provenance": [],
      "machine_shape": "hm",
      "gpuType": "L4",
      "authorship_tag": "ABX9TyMZO0pr8QnihXSH31W1m1J+",
      "include_colab_link": true
    },
    "kernelspec": {
      "name": "python3",
      "display_name": "Python 3"
    },
    "language_info": {
      "name": "python"
    },
    "accelerator": "GPU"
  },
  "cells": [
    {
      "cell_type": "markdown",
      "metadata": {
        "id": "view-in-github",
        "colab_type": "text"
      },
      "source": [
        "<a href=\"https://colab.research.google.com/github/SRINIRAGZ/sentimentAnalysis/blob/main/SentimentAnalysis.ipynb\" target=\"_parent\"><img src=\"https://colab.research.google.com/assets/colab-badge.svg\" alt=\"Open In Colab\"/></a>"
      ]
    },
    {
      "cell_type": "code",
      "execution_count": null,
      "metadata": {
        "id": "kg3U2ZS3IlU1"
      },
      "outputs": [],
      "source": [
        "!pip install transformers torch"
      ]
    },
    {
      "cell_type": "code",
      "source": [
        "from transformers import pipeline\n",
        "\n",
        "# Load sentiment analysis pipeline\n",
        "classifier = pipeline(\"sentiment-analysis\", model=\"cardiffnlp/twitter-roberta-base-sentiment\")\n",
        "\n",
        "\n"
      ],
      "metadata": {
        "id": "gYoYDiG4JHVs"
      },
      "execution_count": null,
      "outputs": []
    },
    {
      "cell_type": "code",
      "source": [
        "# Example comments\n",
        "comments = [\n",
        "    \"I love this product!\",\n",
        "    \"This is the worst service I’ve ever experienced.\",\n",
        "    \"The delivery was okay, nothing special.\",\n",
        "    \"Great! It lasted only for a whole one day\"\n",
        "]\n",
        "\n",
        "# Run sentiment analysis\n",
        "results = classifier(comments)\n",
        "\n",
        "# Display results\n",
        "for comment, result in zip(comments, results):\n",
        "    print(f\"{comment} => {result['label']} (score: {result['score']:.2f})\")"
      ],
      "metadata": {
        "id": "nmxr8IIzKx99"
      },
      "execution_count": null,
      "outputs": []
    },
    {
      "cell_type": "code",
      "source": [
        "# summarizer = pipeline(\"summarization\", model=\"facebook/bart-large-cnn\")\n",
        "summarizer = pipeline(\"summarization\", model=\"google/flan-t5-large\")\n"
      ],
      "metadata": {
        "id": "H61GmjrLLbdW"
      },
      "execution_count": null,
      "outputs": []
    },
    {
      "cell_type": "code",
      "source": [
        "allcomments = \"Summarize all the fllowing user comments on product: \"+\" \".join(comments)\n",
        "summary = summarizer(allcomments, max_length=15, min_length=5, do_sample=False)\n",
        "print(summary)"
      ],
      "metadata": {
        "id": "Vy0P5e9wLxNS"
      },
      "execution_count": null,
      "outputs": []
    },
    {
      "cell_type": "code",
      "source": [
        "text = '''summarize the following news about NVIDIA: NVIDIA T4 was introduced 4 years ago as a universal GPU for use in mainstream servers. T4 GPUs achieved widespread adoption and are now the highest-volume NVIDIA data center GPU. T4 GPUs were deployed into use cases for AI inference, cloud gaming, video, and visual computing.At the NVIDIA GTC 2023 keynote, NVIDIA introduced several inference platforms for AI workloads, including the NVIDIA T4 successor: the NVIDIA L4 Tensor Core GPU. The L4 GPU is now the universal, energy-efficient accelerator designed to meet AI needs for video, visual computing, graphics, virtualization, generative AI, and numerous applications for edge computing.\n",
        "In this post, we walk through how mainstream servers with the L4 GPUs provide more AI video performance and enable more video streams compared to the previous generation (T4). You will find proven results for use cases ranging from video streaming to drug discovery and learn how you can experience the difference of running an AI workload on the L4 GPU today.'''"
      ],
      "metadata": {
        "id": "ICmlM8zoMrJi"
      },
      "execution_count": null,
      "outputs": []
    },
    {
      "cell_type": "code",
      "source": [
        "prompt = \"\"\"\n",
        "Summarize the following customer reviews into key points of satisfaction and dissatisfaction:\n",
        "\n",
        "Reviews:\n",
        "1. I love this product, it’s fantastic!\n",
        "2. The delivery was late and support was unhelpful.\n",
        "3. Packaging was okay, nothing special.\n",
        "4. Great quality, I’ll buy again.\n",
        "5. Service is terrible, I want a refund.\n",
        "\"\"\""
      ],
      "metadata": {
        "id": "ofRCwJmLOrFe"
      },
      "execution_count": null,
      "outputs": []
    },
    {
      "cell_type": "code",
      "source": [
        "summary = summarizer(prompt, max_new_tokens=15, min_length=5, do_sample=False)\n",
        "print(summary[0]['summary_text'])"
      ],
      "metadata": {
        "id": "hYD-odeyM1-i"
      },
      "execution_count": null,
      "outputs": []
    }
  ]
}